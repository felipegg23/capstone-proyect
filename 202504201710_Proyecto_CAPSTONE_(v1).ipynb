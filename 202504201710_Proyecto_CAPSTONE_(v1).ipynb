{
  "cells": [
    {
      "cell_type": "markdown",
      "source": [
        "#### Proyecto CAPSTONE - Felipe González García\n",
        "# Sistema de Recuperación de Información (RAG) para Contact Center Corporativo"
      ],
      "metadata": {
        "id": "NcEI8dRgYLbs"
      }
    },
    {
      "cell_type": "markdown",
      "source": [
        "## 1. Pasos Previos"
      ],
      "metadata": {
        "id": "Wf6puy95YC3n"
      }
    },
    {
      "cell_type": "markdown",
      "metadata": {
        "id": "q3gJJoGD91rZ"
      },
      "source": [
        "Se instalan las librerías necesarias, como gspread, pandas, openai, langchain, numpy, y scikit-learn"
      ]
    },
    {
      "cell_type": "code",
      "execution_count": 6,
      "metadata": {
        "id": "6AaxKPCU8cnL"
      },
      "outputs": [],
      "source": [
        "!pip install --quiet gspread google-auth pandas openai langchain langchain_openai numpy scikit-learn"
      ]
    },
    {
      "cell_type": "markdown",
      "metadata": {
        "id": "-wpcEFETzPlX"
      },
      "source": [
        "Se autentica al usuario con Google para acceder a la hoja de cálculo."
      ]
    },
    {
      "cell_type": "code",
      "execution_count": 7,
      "metadata": {
        "id": "NM2ODdCryQ9m"
      },
      "outputs": [],
      "source": [
        "from google.colab import auth\n",
        "auth.authenticate_user()\n",
        "\n",
        "from google.auth import default\n",
        "creds, _ = default()\n",
        "\n",
        "from google.colab import userdata"
      ]
    },
    {
      "cell_type": "markdown",
      "metadata": {
        "id": "oj_WO2sZznu9"
      },
      "source": [
        "Se abre la hoja de cálculo, se selecciona la hoja relevante y se cargan los datos en un DataFrame de Pandas."
      ]
    },
    {
      "cell_type": "code",
      "execution_count": 8,
      "metadata": {
        "colab": {
          "base_uri": "https://localhost:8080/",
          "height": 423
        },
        "id": "403CyTP-yZWT",
        "outputId": "11f0d9f3-e641-4a2e-f3a2-f0c110f6b8e9"
      },
      "outputs": [
        {
          "output_type": "display_data",
          "data": {
            "text/plain": [
              "                            DEPARTAMENTO  \\\n",
              "0    ADMINISTRACIÓN (FACTURACIÓN) 551010   \n",
              "1    ADMINISTRACIÓN (FACTURACIÓN) 551010   \n",
              "2    ADMINISTRACIÓN (FACTURACIÓN) 551010   \n",
              "3    ADMINISTRACIÓN (FACTURACIÓN) 551010   \n",
              "4    ADMINISTRACIÓN (FACTURACIÓN) 551010   \n",
              "..                                   ...   \n",
              "125                 INFORMACIÓN AUXILIAR   \n",
              "126                 INFORMACIÓN AUXILIAR   \n",
              "127                 INFORMACIÓN AUXILIAR   \n",
              "128                 INFORMACIÓN AUXILIAR   \n",
              "129                 INFORMACIÓN AUXILIAR   \n",
              "\n",
              "                                     CONSULTA  \\\n",
              "0                             Enviar facturas   \n",
              "1                      Facturación incorrecta   \n",
              "2                       Aclaración de factura   \n",
              "3                     Cambio numero de cuenta   \n",
              "4                        Cambio forma de pago   \n",
              "..                                        ...   \n",
              "125                    Fusión preving-cualtis   \n",
              "126                    LLamadas de compañeros   \n",
              "127  Ofertas de nuevos servicios. Proveedores   \n",
              "128                                CIF Vitaly   \n",
              "129                         Correos genéricos   \n",
              "\n",
              "                                              SOLUCIÓN  \\\n",
              "0    Prioritariamente nos preguntamos porqué no ha ...   \n",
              "1    Prioritariamente verificamos si se trata de un...   \n",
              "2    Pregunto sobre qué factura sería la consulta. ...   \n",
              "3    Accedo a ofertas PRL en su pestaña general, pa...   \n",
              "4    CRM/Ofertas prl/Contratos aceptados/General: c...   \n",
              "..                                                 ...   \n",
              "125  Empresas que solicitan documentación  sobre la...   \n",
              "126  Cuando recibamos llamadas de compañeros indica...   \n",
              "127  En el caso de empresas que deseen ofrecer sus ...   \n",
              "128                                                      \n",
              "129                                                      \n",
              "\n",
              "                                    ENLACES DE INTERÉS  \n",
              "0                                                       \n",
              "1                                                       \n",
              "2                                                       \n",
              "3    https://drive.google.com/file/d/1Ooo-ZgPmfMxKb...  \n",
              "4                                                       \n",
              "..                                                 ...  \n",
              "125  https://drive.google.com/file/d/1xERboEfR8PGgg...  \n",
              "126                                                     \n",
              "127                                                     \n",
              "128  https://drive.google.com/file/d/1VGKJHI1wgFAu2...  \n",
              "129  https://docs.google.com/document/d/1hoabPqKSeD...  \n",
              "\n",
              "[130 rows x 4 columns]"
            ],
            "text/html": [
              "\n",
              "  <div id=\"df-e0cd69bc-cfc8-411c-a313-08a56e660524\" class=\"colab-df-container\">\n",
              "    <div>\n",
              "<style scoped>\n",
              "    .dataframe tbody tr th:only-of-type {\n",
              "        vertical-align: middle;\n",
              "    }\n",
              "\n",
              "    .dataframe tbody tr th {\n",
              "        vertical-align: top;\n",
              "    }\n",
              "\n",
              "    .dataframe thead th {\n",
              "        text-align: right;\n",
              "    }\n",
              "</style>\n",
              "<table border=\"1\" class=\"dataframe\">\n",
              "  <thead>\n",
              "    <tr style=\"text-align: right;\">\n",
              "      <th></th>\n",
              "      <th>DEPARTAMENTO</th>\n",
              "      <th>CONSULTA</th>\n",
              "      <th>SOLUCIÓN</th>\n",
              "      <th>ENLACES DE INTERÉS</th>\n",
              "    </tr>\n",
              "  </thead>\n",
              "  <tbody>\n",
              "    <tr>\n",
              "      <th>0</th>\n",
              "      <td>ADMINISTRACIÓN (FACTURACIÓN) 551010</td>\n",
              "      <td>Enviar facturas</td>\n",
              "      <td>Prioritariamente nos preguntamos porqué no ha ...</td>\n",
              "      <td></td>\n",
              "    </tr>\n",
              "    <tr>\n",
              "      <th>1</th>\n",
              "      <td>ADMINISTRACIÓN (FACTURACIÓN) 551010</td>\n",
              "      <td>Facturación incorrecta</td>\n",
              "      <td>Prioritariamente verificamos si se trata de un...</td>\n",
              "      <td></td>\n",
              "    </tr>\n",
              "    <tr>\n",
              "      <th>2</th>\n",
              "      <td>ADMINISTRACIÓN (FACTURACIÓN) 551010</td>\n",
              "      <td>Aclaración de factura</td>\n",
              "      <td>Pregunto sobre qué factura sería la consulta. ...</td>\n",
              "      <td></td>\n",
              "    </tr>\n",
              "    <tr>\n",
              "      <th>3</th>\n",
              "      <td>ADMINISTRACIÓN (FACTURACIÓN) 551010</td>\n",
              "      <td>Cambio numero de cuenta</td>\n",
              "      <td>Accedo a ofertas PRL en su pestaña general, pa...</td>\n",
              "      <td>https://drive.google.com/file/d/1Ooo-ZgPmfMxKb...</td>\n",
              "    </tr>\n",
              "    <tr>\n",
              "      <th>4</th>\n",
              "      <td>ADMINISTRACIÓN (FACTURACIÓN) 551010</td>\n",
              "      <td>Cambio forma de pago</td>\n",
              "      <td>CRM/Ofertas prl/Contratos aceptados/General: c...</td>\n",
              "      <td></td>\n",
              "    </tr>\n",
              "    <tr>\n",
              "      <th>...</th>\n",
              "      <td>...</td>\n",
              "      <td>...</td>\n",
              "      <td>...</td>\n",
              "      <td>...</td>\n",
              "    </tr>\n",
              "    <tr>\n",
              "      <th>125</th>\n",
              "      <td>INFORMACIÓN AUXILIAR</td>\n",
              "      <td>Fusión preving-cualtis</td>\n",
              "      <td>Empresas que solicitan documentación  sobre la...</td>\n",
              "      <td>https://drive.google.com/file/d/1xERboEfR8PGgg...</td>\n",
              "    </tr>\n",
              "    <tr>\n",
              "      <th>126</th>\n",
              "      <td>INFORMACIÓN AUXILIAR</td>\n",
              "      <td>LLamadas de compañeros</td>\n",
              "      <td>Cuando recibamos llamadas de compañeros indica...</td>\n",
              "      <td></td>\n",
              "    </tr>\n",
              "    <tr>\n",
              "      <th>127</th>\n",
              "      <td>INFORMACIÓN AUXILIAR</td>\n",
              "      <td>Ofertas de nuevos servicios. Proveedores</td>\n",
              "      <td>En el caso de empresas que deseen ofrecer sus ...</td>\n",
              "      <td></td>\n",
              "    </tr>\n",
              "    <tr>\n",
              "      <th>128</th>\n",
              "      <td>INFORMACIÓN AUXILIAR</td>\n",
              "      <td>CIF Vitaly</td>\n",
              "      <td></td>\n",
              "      <td>https://drive.google.com/file/d/1VGKJHI1wgFAu2...</td>\n",
              "    </tr>\n",
              "    <tr>\n",
              "      <th>129</th>\n",
              "      <td>INFORMACIÓN AUXILIAR</td>\n",
              "      <td>Correos genéricos</td>\n",
              "      <td></td>\n",
              "      <td>https://docs.google.com/document/d/1hoabPqKSeD...</td>\n",
              "    </tr>\n",
              "  </tbody>\n",
              "</table>\n",
              "<p>130 rows × 4 columns</p>\n",
              "</div>\n",
              "    <div class=\"colab-df-buttons\">\n",
              "\n",
              "  <div class=\"colab-df-container\">\n",
              "    <button class=\"colab-df-convert\" onclick=\"convertToInteractive('df-e0cd69bc-cfc8-411c-a313-08a56e660524')\"\n",
              "            title=\"Convert this dataframe to an interactive table.\"\n",
              "            style=\"display:none;\">\n",
              "\n",
              "  <svg xmlns=\"http://www.w3.org/2000/svg\" height=\"24px\" viewBox=\"0 -960 960 960\">\n",
              "    <path d=\"M120-120v-720h720v720H120Zm60-500h600v-160H180v160Zm220 220h160v-160H400v160Zm0 220h160v-160H400v160ZM180-400h160v-160H180v160Zm440 0h160v-160H620v160ZM180-180h160v-160H180v160Zm440 0h160v-160H620v160Z\"/>\n",
              "  </svg>\n",
              "    </button>\n",
              "\n",
              "  <style>\n",
              "    .colab-df-container {\n",
              "      display:flex;\n",
              "      gap: 12px;\n",
              "    }\n",
              "\n",
              "    .colab-df-convert {\n",
              "      background-color: #E8F0FE;\n",
              "      border: none;\n",
              "      border-radius: 50%;\n",
              "      cursor: pointer;\n",
              "      display: none;\n",
              "      fill: #1967D2;\n",
              "      height: 32px;\n",
              "      padding: 0 0 0 0;\n",
              "      width: 32px;\n",
              "    }\n",
              "\n",
              "    .colab-df-convert:hover {\n",
              "      background-color: #E2EBFA;\n",
              "      box-shadow: 0px 1px 2px rgba(60, 64, 67, 0.3), 0px 1px 3px 1px rgba(60, 64, 67, 0.15);\n",
              "      fill: #174EA6;\n",
              "    }\n",
              "\n",
              "    .colab-df-buttons div {\n",
              "      margin-bottom: 4px;\n",
              "    }\n",
              "\n",
              "    [theme=dark] .colab-df-convert {\n",
              "      background-color: #3B4455;\n",
              "      fill: #D2E3FC;\n",
              "    }\n",
              "\n",
              "    [theme=dark] .colab-df-convert:hover {\n",
              "      background-color: #434B5C;\n",
              "      box-shadow: 0px 1px 3px 1px rgba(0, 0, 0, 0.15);\n",
              "      filter: drop-shadow(0px 1px 2px rgba(0, 0, 0, 0.3));\n",
              "      fill: #FFFFFF;\n",
              "    }\n",
              "  </style>\n",
              "\n",
              "    <script>\n",
              "      const buttonEl =\n",
              "        document.querySelector('#df-e0cd69bc-cfc8-411c-a313-08a56e660524 button.colab-df-convert');\n",
              "      buttonEl.style.display =\n",
              "        google.colab.kernel.accessAllowed ? 'block' : 'none';\n",
              "\n",
              "      async function convertToInteractive(key) {\n",
              "        const element = document.querySelector('#df-e0cd69bc-cfc8-411c-a313-08a56e660524');\n",
              "        const dataTable =\n",
              "          await google.colab.kernel.invokeFunction('convertToInteractive',\n",
              "                                                    [key], {});\n",
              "        if (!dataTable) return;\n",
              "\n",
              "        const docLinkHtml = 'Like what you see? Visit the ' +\n",
              "          '<a target=\"_blank\" href=https://colab.research.google.com/notebooks/data_table.ipynb>data table notebook</a>'\n",
              "          + ' to learn more about interactive tables.';\n",
              "        element.innerHTML = '';\n",
              "        dataTable['output_type'] = 'display_data';\n",
              "        await google.colab.output.renderOutput(dataTable, element);\n",
              "        const docLink = document.createElement('div');\n",
              "        docLink.innerHTML = docLinkHtml;\n",
              "        element.appendChild(docLink);\n",
              "      }\n",
              "    </script>\n",
              "  </div>\n",
              "\n",
              "\n",
              "    <div id=\"df-5d2f12db-e8f0-430d-8c11-b4701166556c\">\n",
              "      <button class=\"colab-df-quickchart\" onclick=\"quickchart('df-5d2f12db-e8f0-430d-8c11-b4701166556c')\"\n",
              "                title=\"Suggest charts\"\n",
              "                style=\"display:none;\">\n",
              "\n",
              "<svg xmlns=\"http://www.w3.org/2000/svg\" height=\"24px\"viewBox=\"0 0 24 24\"\n",
              "     width=\"24px\">\n",
              "    <g>\n",
              "        <path d=\"M19 3H5c-1.1 0-2 .9-2 2v14c0 1.1.9 2 2 2h14c1.1 0 2-.9 2-2V5c0-1.1-.9-2-2-2zM9 17H7v-7h2v7zm4 0h-2V7h2v10zm4 0h-2v-4h2v4z\"/>\n",
              "    </g>\n",
              "</svg>\n",
              "      </button>\n",
              "\n",
              "<style>\n",
              "  .colab-df-quickchart {\n",
              "      --bg-color: #E8F0FE;\n",
              "      --fill-color: #1967D2;\n",
              "      --hover-bg-color: #E2EBFA;\n",
              "      --hover-fill-color: #174EA6;\n",
              "      --disabled-fill-color: #AAA;\n",
              "      --disabled-bg-color: #DDD;\n",
              "  }\n",
              "\n",
              "  [theme=dark] .colab-df-quickchart {\n",
              "      --bg-color: #3B4455;\n",
              "      --fill-color: #D2E3FC;\n",
              "      --hover-bg-color: #434B5C;\n",
              "      --hover-fill-color: #FFFFFF;\n",
              "      --disabled-bg-color: #3B4455;\n",
              "      --disabled-fill-color: #666;\n",
              "  }\n",
              "\n",
              "  .colab-df-quickchart {\n",
              "    background-color: var(--bg-color);\n",
              "    border: none;\n",
              "    border-radius: 50%;\n",
              "    cursor: pointer;\n",
              "    display: none;\n",
              "    fill: var(--fill-color);\n",
              "    height: 32px;\n",
              "    padding: 0;\n",
              "    width: 32px;\n",
              "  }\n",
              "\n",
              "  .colab-df-quickchart:hover {\n",
              "    background-color: var(--hover-bg-color);\n",
              "    box-shadow: 0 1px 2px rgba(60, 64, 67, 0.3), 0 1px 3px 1px rgba(60, 64, 67, 0.15);\n",
              "    fill: var(--button-hover-fill-color);\n",
              "  }\n",
              "\n",
              "  .colab-df-quickchart-complete:disabled,\n",
              "  .colab-df-quickchart-complete:disabled:hover {\n",
              "    background-color: var(--disabled-bg-color);\n",
              "    fill: var(--disabled-fill-color);\n",
              "    box-shadow: none;\n",
              "  }\n",
              "\n",
              "  .colab-df-spinner {\n",
              "    border: 2px solid var(--fill-color);\n",
              "    border-color: transparent;\n",
              "    border-bottom-color: var(--fill-color);\n",
              "    animation:\n",
              "      spin 1s steps(1) infinite;\n",
              "  }\n",
              "\n",
              "  @keyframes spin {\n",
              "    0% {\n",
              "      border-color: transparent;\n",
              "      border-bottom-color: var(--fill-color);\n",
              "      border-left-color: var(--fill-color);\n",
              "    }\n",
              "    20% {\n",
              "      border-color: transparent;\n",
              "      border-left-color: var(--fill-color);\n",
              "      border-top-color: var(--fill-color);\n",
              "    }\n",
              "    30% {\n",
              "      border-color: transparent;\n",
              "      border-left-color: var(--fill-color);\n",
              "      border-top-color: var(--fill-color);\n",
              "      border-right-color: var(--fill-color);\n",
              "    }\n",
              "    40% {\n",
              "      border-color: transparent;\n",
              "      border-right-color: var(--fill-color);\n",
              "      border-top-color: var(--fill-color);\n",
              "    }\n",
              "    60% {\n",
              "      border-color: transparent;\n",
              "      border-right-color: var(--fill-color);\n",
              "    }\n",
              "    80% {\n",
              "      border-color: transparent;\n",
              "      border-right-color: var(--fill-color);\n",
              "      border-bottom-color: var(--fill-color);\n",
              "    }\n",
              "    90% {\n",
              "      border-color: transparent;\n",
              "      border-bottom-color: var(--fill-color);\n",
              "    }\n",
              "  }\n",
              "</style>\n",
              "\n",
              "      <script>\n",
              "        async function quickchart(key) {\n",
              "          const quickchartButtonEl =\n",
              "            document.querySelector('#' + key + ' button');\n",
              "          quickchartButtonEl.disabled = true;  // To prevent multiple clicks.\n",
              "          quickchartButtonEl.classList.add('colab-df-spinner');\n",
              "          try {\n",
              "            const charts = await google.colab.kernel.invokeFunction(\n",
              "                'suggestCharts', [key], {});\n",
              "          } catch (error) {\n",
              "            console.error('Error during call to suggestCharts:', error);\n",
              "          }\n",
              "          quickchartButtonEl.classList.remove('colab-df-spinner');\n",
              "          quickchartButtonEl.classList.add('colab-df-quickchart-complete');\n",
              "        }\n",
              "        (() => {\n",
              "          let quickchartButtonEl =\n",
              "            document.querySelector('#df-5d2f12db-e8f0-430d-8c11-b4701166556c button');\n",
              "          quickchartButtonEl.style.display =\n",
              "            google.colab.kernel.accessAllowed ? 'block' : 'none';\n",
              "        })();\n",
              "      </script>\n",
              "    </div>\n",
              "\n",
              "  <div id=\"id_06d897d7-98e6-4e20-bee2-33a1e358e102\">\n",
              "    <style>\n",
              "      .colab-df-generate {\n",
              "        background-color: #E8F0FE;\n",
              "        border: none;\n",
              "        border-radius: 50%;\n",
              "        cursor: pointer;\n",
              "        display: none;\n",
              "        fill: #1967D2;\n",
              "        height: 32px;\n",
              "        padding: 0 0 0 0;\n",
              "        width: 32px;\n",
              "      }\n",
              "\n",
              "      .colab-df-generate:hover {\n",
              "        background-color: #E2EBFA;\n",
              "        box-shadow: 0px 1px 2px rgba(60, 64, 67, 0.3), 0px 1px 3px 1px rgba(60, 64, 67, 0.15);\n",
              "        fill: #174EA6;\n",
              "      }\n",
              "\n",
              "      [theme=dark] .colab-df-generate {\n",
              "        background-color: #3B4455;\n",
              "        fill: #D2E3FC;\n",
              "      }\n",
              "\n",
              "      [theme=dark] .colab-df-generate:hover {\n",
              "        background-color: #434B5C;\n",
              "        box-shadow: 0px 1px 3px 1px rgba(0, 0, 0, 0.15);\n",
              "        filter: drop-shadow(0px 1px 2px rgba(0, 0, 0, 0.3));\n",
              "        fill: #FFFFFF;\n",
              "      }\n",
              "    </style>\n",
              "    <button class=\"colab-df-generate\" onclick=\"generateWithVariable('df')\"\n",
              "            title=\"Generate code using this dataframe.\"\n",
              "            style=\"display:none;\">\n",
              "\n",
              "  <svg xmlns=\"http://www.w3.org/2000/svg\" height=\"24px\"viewBox=\"0 0 24 24\"\n",
              "       width=\"24px\">\n",
              "    <path d=\"M7,19H8.4L18.45,9,17,7.55,7,17.6ZM5,21V16.75L18.45,3.32a2,2,0,0,1,2.83,0l1.4,1.43a1.91,1.91,0,0,1,.58,1.4,1.91,1.91,0,0,1-.58,1.4L9.25,21ZM18.45,9,17,7.55Zm-12,3A5.31,5.31,0,0,0,4.9,8.1,5.31,5.31,0,0,0,1,6.5,5.31,5.31,0,0,0,4.9,4.9,5.31,5.31,0,0,0,6.5,1,5.31,5.31,0,0,0,8.1,4.9,5.31,5.31,0,0,0,12,6.5,5.46,5.46,0,0,0,6.5,12Z\"/>\n",
              "  </svg>\n",
              "    </button>\n",
              "    <script>\n",
              "      (() => {\n",
              "      const buttonEl =\n",
              "        document.querySelector('#id_06d897d7-98e6-4e20-bee2-33a1e358e102 button.colab-df-generate');\n",
              "      buttonEl.style.display =\n",
              "        google.colab.kernel.accessAllowed ? 'block' : 'none';\n",
              "\n",
              "      buttonEl.onclick = () => {\n",
              "        google.colab.notebook.generateWithVariable('df');\n",
              "      }\n",
              "      })();\n",
              "    </script>\n",
              "  </div>\n",
              "\n",
              "    </div>\n",
              "  </div>\n"
            ],
            "application/vnd.google.colaboratory.intrinsic+json": {
              "type": "dataframe",
              "variable_name": "df",
              "summary": "{\n  \"name\": \"df\",\n  \"rows\": 130,\n  \"fields\": [\n    {\n      \"column\": \"DEPARTAMENTO\",\n      \"properties\": {\n        \"dtype\": \"category\",\n        \"num_unique_values\": 17,\n        \"samples\": [\n          \"ADMINISTRACI\\u00d3N (FACTURACI\\u00d3N) 551010\",\n          \"ADMINISTRACI\\u00d3N (COBROS) 551956\",\n          \"FORMACI\\u00d3N (FORMALIA)\"\n        ],\n        \"semantic_type\": \"\",\n        \"description\": \"\"\n      }\n    },\n    {\n      \"column\": \"CONSULTA\",\n      \"properties\": {\n        \"dtype\": \"string\",\n        \"num_unique_values\": 128,\n        \"samples\": [\n          \"Info  formaci\\u00f3n\",\n          \"Vacuna gripe\",\n          \"Solicitar cita\"\n        ],\n        \"semantic_type\": \"\",\n        \"description\": \"\"\n      }\n    },\n    {\n      \"column\": \"SOLUCI\\u00d3N\",\n      \"properties\": {\n        \"dtype\": \"string\",\n        \"num_unique_values\": 119,\n        \"samples\": [\n          \"Derivo a comercial 1/2\",\n          \"Derivo a comercial 1\",\n          \"CRM/Ofertas prl/Contratos aceptados/General: comprobamos t\\u00e9rminos de pago.\\n \\nSi difieren de los que solicita el cliente, solicitamos anexo con las nuevas condiciones de pago. \\nInformamos al cliente de que recibir\\u00e1 un anexo para proceder al cambio.\"\n        ],\n        \"semantic_type\": \"\",\n        \"description\": \"\"\n      }\n    },\n    {\n      \"column\": \"ENLACES DE INTER\\u00c9S\",\n      \"properties\": {\n        \"dtype\": \"category\",\n        \"num_unique_values\": 25,\n        \"samples\": [\n          \"https://docs.google.com/spreadsheets/u/0/d/1YKVdbCr5A8-fvv3GLrBjXZ51P1xoW41vEwqgAym8zKM/edit\",\n          \"https://docs.google.com/document/d/1vcp2-dyMOhG8vE8yAZAxWP0ZTfOe20iw7qizB0swdSE/edit?usp=sharing\",\n          \"\"\n        ],\n        \"semantic_type\": \"\",\n        \"description\": \"\"\n      }\n    }\n  ]\n}"
            }
          },
          "metadata": {}
        }
      ],
      "source": [
        "import gspread\n",
        "import pandas as pd # Importamos el módulo Pandas\n",
        "\n",
        "# Nos autenticamos en Google (IDP)\n",
        "gc = gspread.authorize(creds)\n",
        "\n",
        "# Abrimos el Google Sheet y seleccionamos la hoja de cálculo\n",
        "hoja_de_calculo = gc.open_by_key(userdata.get('SHEET_ID'))\n",
        "hoja = hoja_de_calculo.worksheet('DATOS')\n",
        "\n",
        "# Obtiene los datos como lista de diccionarios\n",
        "data = hoja.get_all_records()\n",
        "df = pd.DataFrame(data)\n",
        "\n",
        "from IPython.display import display\n",
        "display(df)\n"
      ]
    },
    {
      "cell_type": "markdown",
      "metadata": {
        "id": "dBE0Ua01RuqI"
      },
      "source": [
        "Definir el \"Documento\": Decidir qué columnas combinadas formarán el texto que representa cada procedimiento (el \"documento\" a buscar).\n",
        "Se crea una columna \"documento_completo\" que combina la información relevante de varias columnas para formar el texto que representa cada procedimiento."
      ]
    },
    {
      "cell_type": "code",
      "execution_count": 9,
      "metadata": {
        "colab": {
          "base_uri": "https://localhost:8080/"
        },
        "id": "7UM83YBx2-BQ",
        "outputId": "52338fce-6387-4a1a-f3dd-61d65e133dba"
      },
      "outputs": [
        {
          "output_type": "stream",
          "name": "stdout",
          "text": [
            "['DEPARTAMENTO: ADMINISTRACIÓN (FACTURACIÓN) 551010 // CONSULTA: Enviar facturas // SOLUCION: Prioritariamente nos preguntamos porqué no ha recibido la/s factura/s. Verificamos el mail de envío y aludimos a la extranet como soporte. \\nBuscamos la fra. en la pestaña e-fra. de CRM, la descargamos en PDF y se la hacemos llegar al cliente por mail de Genesys. Verificamos la recepción del envío. \\nEn el caso de facturas no volcadas en CRM, cerramos tipificando PBO Envio y consulta y facturas\\n\\nIMPORTANTE: Tipificamos tanto la llamada, como el mail que ha motivado el envío de la fra. // ENLACES DE INTERÉS: ', 'DEPARTAMENTO: ADMINISTRACIÓN (FACTURACIÓN) 551010 // CONSULTA: Facturación incorrecta // SOLUCION: Prioritariamente verificamos si se trata de una facturaciñon incorrecta, con lo que nos dirigimos a la opción de Ofertas PRL u Otras ofertas de CRM y verificamos los términos de contrato: servicios contratados, periodo de vigencia, términos de pago y de facturación.\\n\\n Además, consultamos el histórico de cambios del contrato (bola con número que figura junto al nombre de empresa) y analizamos los últimos cambios aplicados al contrato. \\n\\nSi finalmente identificamos que se trata de un error en la fra. solicitamos una reclamación para resolverlo. // ENLACES DE INTERÉS: ', 'DEPARTAMENTO: ADMINISTRACIÓN (FACTURACIÓN) 551010 // CONSULTA: Aclaración de factura // SOLUCION: Pregunto sobre qué factura sería la consulta.  Explico lo que se requiera tomando como recurso CRM/ Ofertas PRL/ Contrato aceptado (candado cerrado)/Servicios ofertados, fijandonos siempre en el ID oferta  \\n\\nExplicamos al cliente de forma breve y clara que incluye su contrato aclarando servicios incluidos y dando la opción de añadir los que desee // ENLACES DE INTERÉS: ', 'DEPARTAMENTO: ADMINISTRACIÓN (FACTURACIÓN) 551010 // CONSULTA: Cambio numero de cuenta // SOLUCION: Accedo a ofertas PRL en su pestaña general, para comprobar el número de cuenta que tenemos del cliente. En caso de ser incorrecto o que no estuviera cambiado aún, ni hubiera solicitud de anexo ya creada envio al cliente documento SEPA\\ne informo que nos lo devuelva cumplimentado para proceder al cambio.\\nUna vez recibido procedo a la creacion del anexo adjuntando el documento sepa. \\nInformo al lciente de que debe recibir un anexo por cambio de número de cuenta por mail. // ENLACES DE INTERÉS: https://drive.google.com/file/d/1Ooo-ZgPmfMxKbPtDtE9Ox6W2g8ubZbtO/view?usp=sharing', 'DEPARTAMENTO: ADMINISTRACIÓN (FACTURACIÓN) 551010 // CONSULTA: Cambio forma de pago // SOLUCION: CRM/Ofertas prl/Contratos aceptados/General: comprobamos términos de pago.\\n \\nSi difieren de los que solicita el cliente, solicitamos anexo con las nuevas condiciones de pago. \\nInformamos al cliente de que recibirá un anexo para proceder al cambio. // ENLACES DE INTERÉS: ', 'DEPARTAMENTO: ADMINISTRACIÓN (FACTURACIÓN) 551010 // CONSULTA: Reembolsos // SOLUCION: Accedemos al área de cobros para visualizar si puede existir un importe a favor del cliente. Ante la duda, podemos contrastarlo con la emisión de las facturas del cliente, así como corroborarlo con el área de facturación. \\n\\nContrastamos la información para ver si procede realmente reembolso o no.\\n\\nLlegados aquí es importante conocer que la política de la compañía no realiza abonos, sino que genera facturas rectificaticas dejando saldo a favor del cliente que se compensa con facturas posteriores. \\nExplicamos al cliente que puede devolver la fra. \\n\\nEn caso de que el cliente no estuviera de acuerdo, podemos solicitar reembolso, para lo que habría que asegurar que han pasado 54 días de la emisión de la fra. tiempo durante el cual el cliente ha podido devolver el recibo. \\n \\nSolicitud de reembolso: reembolso cap/facturacion/reembolsos o si el cliente no desea abono, derivamos a facturación para que lo compensen en la siguiente factura // ENLACES DE INTERÉS: ', 'DEPARTAMENTO: ADMINISTRACIÓN (FACTURACIÓN) 551010 // CONSULTA: Titularidad bancaria // SOLUCION: Para empresas que solicitan un certificado bancario (normalmente con una fecha inferior a 3 meses) para darnos de alta en su sistema como proveedores. \\n\\nHacemos llegar a traves de genesys el certificado de titularidad bancarias ya sea de vitaly o de formalia // ENLACES DE INTERÉS: https://drive.google.com/file/d/1RiQfgwpoOB_RQWNFCd0pDwEGl4UHVjHW/view?usp=sharing', 'DEPARTAMENTO: ADMINISTRACIÓN (FACTURACIÓN) 551010 // CONSULTA: Correo envio de facturas // SOLUCION: dpto.facturacion@preving.com // ENLACES DE INTERÉS: ', 'DEPARTAMENTO: ADMINISTRACIÓN (FACTURACIÓN) 551010 // CONSULTA: Notificación de fras. a varios correos // SOLUCION: Ofrecemos posibilidad de incluir tantos mails de contacto como se requieran para notificar de fras.  Lo gestionamos mediante alta de contactos en la pestaña de contactos de CRM y posteriormente asignando el check de notificación de fra. // ENLACES DE INTERÉS: ', 'DEPARTAMENTO: ADMINISTRACIÓN (FACTURACIÓN) 551010 // CONSULTA: Modelo 347 // SOLUCION: Empresas que solicitan información de los pagos realizados que les solicita la AEAT. Es la declaracion anual de operaciones con terceras personas en febrero de cada año y permite a hacienda cruzar datos informados de operaciones economicas entre proveedores y clientes \\n\\nEstán obligados autónomo o empresa  que factura sin retención de IRPF a un mismo cliente una cifra total anual por encima de 3005.06€ \\n\\nDisponemos de un archivo en el que lo consultaremos e informamos al cliente // ENLACES DE INTERÉS: ', 'DEPARTAMENTO: ADMINISTRACIÓN (FACTURACIÓN) 551010 // CONSULTA: Facturacion organismos públicos (FACE) // SOLUCION: Remitimos a: \\ncaalmeidam@cualtis.com\\njj.gomez@preving.com // ENLACES DE INTERÉS: ', 'DEPARTAMENTO: ADMINISTRACIÓN (COBROS) 551956 // CONSULTA: Aclaracion de deuda // SOLUCION: Realizo investigación interna a través de la aplicación de cobros, o bien en el icono del € de la línea, en gestión. Si identificamos la procedencia de la deuda lafacturas, si fuera necesario. \\nIndico que si la forma de pago es transferencia puede hacerla al numero de cuenta abajo indicado y en caso de ser giro bancario contacto con su gestor de cobros, que aparecerá en el expediente de cobros.  \\n\\nIgualmente, en caso de que no este claro o surja cualquier duda derivo con gestor de cobros. // ENLACES DE INTERÉS: ', 'DEPARTAMENTO: ADMINISTRACIÓN (COBROS) 551956 // CONSULTA: Envio comprobantes de pago/ Justificante de transferencia // SOLUCION: Si recibimos mail en el que el cliente adjunta un justificante de pago reenvio a:\\n\\nclara.serrano@preving.com\\t\\nj.murillo@preving.com\\t\\ns.lozano@preving.com\\nmarta.duran@preving.com\\nrsanchezd@cualtis.com\\ncsanchezm@cualtis.com // ENLACES DE INTERÉS: ', 'DEPARTAMENTO: ADMINISTRACIÓN (COBROS) 551956 // CONSULTA: Certificado corriente de pagos // SOLUCION: Compruebo si no han podido consultarlos por extranet (recuerdo plataforma, usuario, ruta…)\\n\\nSi hubiera algún bloqueo puntual de la plataforma enviamos certificados a través de CRM: Ofertas prl.  Confirmamos con el cliente la dirección de correo al que enviarlo y su recepción.\\n\\n*Si el corriente no está disponible en CRM,  el cliente debe tener alguna factura que no haya llegado a vencimiento, con lo que contactamos con el gestor de cobros para que confirme y decida en su caso si procedemos a gestionarlo. \\n\\nTambien existe la posibilidad de que no este actualizado y el cliente ya haya abonado la factura, en ese caso solicito vía CAP/FACTURACION/CERTIFICADO ALTA TERCEROS // ENLACES DE INTERÉS: ', 'DEPARTAMENTO: ADMINISTRACIÓN (COBROS) 551956 // CONSULTA: Concurso de acreedores // SOLUCION: Para comunicaciones de empresas que entran en concurso de acreedores remitimos a: \\n\\njj.gomez@preving.com\\nc.macias@preving.com // ENLACES DE INTERÉS: ', 'DEPARTAMENTO: ADMINISTRACIÓN (CONTABILIDAD ) // CONSULTA: Alta Proveedores // SOLUCION: EMPRESAS QUE NECESITAN DARNOS DE ALTA COMO PROVEEDORES \\n\\nEn el caso de empresas que provienen de otras carteras a las que se las han emitido facturas a nombre de FORMALIA, VITALY...\\nInformamos de que somos un grupo de empresas y dependiendo del servicio contratado se le factura desde una u otra \\nPara darnos de alta como proveedores, y que así puedan pagar las facturas que les hemos emitido, preguntamos qué documentos necesitan y en caso de disponer de ellos se le envian directamente. Estos documentos suelen ser certificado de titularidad bancaria y CIF // ENLACES DE INTERÉS: https://drive.google.com/file/d/1moeX7SG37gE0yeNNzQDWju6szrLgxyGf/view?usp=sharing', 'DEPARTAMENTO: ADMINISTRACIÓN (CONTABILIDAD ) // CONSULTA: Facturas proveedores // SOLUCION: ENVIO DE FACTURAS\\nproveedores@preving.com // ENLACES DE INTERÉS: ', 'DEPARTAMENTO: ADMINISTRACIÓN (CONTABILIDAD ) // CONSULTA: Info proveedores // SOLUCION: CONSULTAS \\nInfo.proveedores@preving.com\\n\\nPAGO PROVEEDORES \\nMarta Duran \\nSole Lozano \\nMelani Nieto \\nJose Murillo // ENLACES DE INTERÉS: ', 'DEPARTAMENTO: ADMINISTRACIÓN (CONTABILIDAD ) // CONSULTA: Pago Colaboradores // SOLUCION: Asesorías y terceros que informan de pagos pendientes derivo con: \\nLourdes Alcantara \\nAlicia Santana\\nDavid Martinez // ENLACES DE INTERÉS: ', 'DEPARTAMENTO: INFORMACIÓN VS EMPRESAS // CONSULTA: Solicitar cita // SOLUCION: NO LICITACIONES \\nNO SPA\\n\\nGRANDES CUENTAS - 1º CONTACTO CON PLANIFICADOR. // ENLACES DE INTERÉS: https://docs.google.com/document/d/1En9cGSRFaH9RPimCOqYOXX_GglP401icStYAK1Z-xPI/edit?usp=sharing', 'DEPARTAMENTO: INFORMACIÓN VS EMPRESAS // CONSULTA: Anular cita // SOLUCION: Revisar apartado 8 Manual citaciones CCC. // ENLACES DE INTERÉS: https://docs.google.com/document/d/1En9cGSRFaH9RPimCOqYOXX_GglP401icStYAK1Z-xPI/edit?usp=sharing', 'DEPARTAMENTO: INFORMACIÓN VS EMPRESAS // CONSULTA: Modificar cita // SOLUCION: Revisar apartado 9 Manual citaciones CCC.\\n\\nPara asignar una nueva día, en el mismo día no podemos modificar, pero sí que podemos reservar nueva fecha a través de la opción de reservas. Dejaríamos PBO los datos, para nominar la cita en cuanto se permita. \\n-No indicamos que vuelvan a llamar de nuevo- // ENLACES DE INTERÉS: https://docs.google.com/document/d/1En9cGSRFaH9RPimCOqYOXX_GglP401icStYAK1Z-xPI/edit?usp=sharing', 'DEPARTAMENTO: INFORMACIÓN VS EMPRESAS // CONSULTA: Información de centros // SOLUCION: Relación de centros Vitaly para consulta interna \\n\\nSi una empresa solicita información de los centros de los que disponemos guiamos a traves de la pagina de Vitaly // ENLACES DE INTERÉS: https://drive.google.com/file/d/16EHbJpEdnG4Sy_Kz9nDJm2meUvwEwmz0/view?usp=sharing', 'DEPARTAMENTO: INFORMACIÓN VS EMPRESAS // CONSULTA: Solicitar cita (SPA) // SOLUCION: Para la gestión de citas de SPA informamos de la disponibilidad del servicio a través de la extranet.\\nSi desean solicitar cita de otro modo,  preguntamos el lugar dónde la desea e indicamos el contacto por email, no telefónico.\\nEn casos puntuales, para otros asunto urgentes, consultamos vía teléfonia con planificadora y derivamos llamada, si procede. // ENLACES DE INTERÉS: ', 'DEPARTAMENTO: INFORMACIÓN VS EMPRESAS // CONSULTA: Envío RRMM // SOLUCION: Informo que no es posible enviar datos médicos de un trabajador a la empresa, por protección de datos, éstos se envían directamente al trabajador. Lo que sí podemos enviarles es el certificado de aptitud. // ENLACES DE INTERÉS: ', 'DEPARTAMENTO: INFORMACIÓN VS EMPRESAS // CONSULTA: Envio masivo certificados de aptitud // SOLUCION: PROCEDIMIENTO\\n\\nCuando una empresa solicita envío de todos los aptos vigentes puedo descargar un archivo zip\\nAccedemos con CIF en Minerva/clientes/Cif/Informes aptitud\\nTipo individual/buscar/imprimir PDF\\n\\nARGUMENTARIO\\nInformo al cliente que va a recibir un mail nuestro con un archivo comprimido con el listado completo de los aptos en vigor // ENLACES DE INTERÉS: ', 'DEPARTAMENTO: INFORMACIÓN VS EMPRESAS // CONSULTA: Envio certificado aptitud empresa // SOLUCION: Prioritariamente compruebo si deberían haberla recibido y si han podido consultarlos por extranet\\n\\nSi hubiera algún bloqueo puntual de la plataforma enviamos certificados descargando desde vs/clientes/informes de aptitud.\\nConfirmamos con el cliente la dirección de correo al que enviarlo y su recepción. // ENLACES DE INTERÉS: ', 'DEPARTAMENTO: INFORMACIÓN VS EMPRESAS // CONSULTA: Pruebas especificas // SOLUCION: Revisar apartado 7 Manual citaciones CCC. // ENLACES DE INTERÉS: https://docs.google.com/document/d/1En9cGSRFaH9RPimCOqYOXX_GglP401icStYAK1Z-xPI/edit?usp=sharing', 'DEPARTAMENTO: INFORMACIÓN VS EMPRESAS // CONSULTA: Responsables planificación // SOLUCION: Para empresas con nuevo contrato sin planificadora asignada o Grandes Cuentas, en las que su planificadora este ausente // ENLACES DE INTERÉS: https://drive.google.com/file/d/1wDFo_w6VGCerL0a_fue-y0QRKI_J_ynp/view?usp=sharing', 'DEPARTAMENTO: INFORMACIÓN VS EMPRESAS // CONSULTA: Responsables médicos // SOLUCION: Acudimos a ellos en caso de necesitar reclamar expedientes mñedicos no concluidos. // ENLACES DE INTERÉS: https://drive.google.com/file/d/1eshRHZ21WchVfqnXMhKkChxdtQw3grEN/view?usp=sharing', 'DEPARTAMENTO: INFORMACIÓN VS EMPRESAS // CONSULTA: Envio de reconocimientos a SPA // SOLUCION: Solo puedo informar si el reconocimiento esta finalizado.\\nInformo que deben hacer la consulta en su extranet de clientes. \\nRuta AE: Gestión preventiva - Información médica. // ENLACES DE INTERÉS: ', 'DEPARTAMENTO: INFORMACIÓN VS EMPRESAS // CONSULTA: Buzones de citación  (CUALTIS) // SOLUCION: Nos dirigimos a los buzones para cualquier gestión relacionada con las citas de empresas integradas de Cualtis. -No contactamos directamente con planificadoras, sino que en caso de falta de respuesta, ponemos en copia al Responsable de planificación de zona- // ENLACES DE INTERÉS: ', 'DEPARTAMENTO: INFORMACIÓN VS EMPRESAS // CONSULTA: Derivación con planificadora // SOLUCION: Para empresas que preguntan directamente por su planificadora asignada, informamos de la opción de marcar directamente la extensión en la opción 4 de la locución. Siempre podemos facilitar email contacto también.\\nAdemás, recordar que SIEMPRE, nos ponemos a dispoción de la empresa, por si está de nuestra mano resolver la solicitud. // ENLACES DE INTERÉS: ', 'DEPARTAMENTO: INFORMACION VS TRABAJADORES // CONSULTA: Envio RRMM // SOLUCION: Primero comprobamos que esté FINALIZADO Y VALIDADO, en cuyo caso confirmo con el trabajador el mail al que enviar el reconocimiento médico. Confirmo en línea la recepción del mismo. Pongo en valor la APP VITALY, animando al trabajador a registrarse para que consulte su histórico de RRMM y otros datos de interes. \\n\\n\\nRECONOCIMIENTO FINALIZADO NO VALIDADO \\nEnvío mail a médico validador para solicitar agilidad en el cierre.\\n\\nRECONOCIMIENTO NO FINALIZADO \\nEnvío mail al médico reconocedor y validador , para que procedan con la finalización y validación del expediente, según proceda. \\n\\nFALTA LA ANALÍTICA \\nCompruebo que hay código de analítica y me pongo en contacto con el enfermero por mail para solicitarla. \\n\\nSalvo el primer caso, el resto dejo la solicitud PBO para hacer seguimiento, con los datos necesarios para poder gestionar la tarea. // ENLACES DE INTERÉS: ', 'DEPARTAMENTO: INFORMACION VS TRABAJADORES // CONSULTA: Info analitica // SOLUCION: Le indicamos que tiene que acudir con un ayuno mínimo de 4 a 6 horas\\n\\nSi el trabajador tiene analítica reciente (máximo 3 meses):\\nSe le recomienda que acuda al RRMM, respetando el ayuno (por si acaso) y lleve las analíticas para que el equipo médico determine si son válidas o las tiene que repetir.\\n\\nDisponibles resultados tras finalizar y validar RRMM. El trabajador también puede visualizarlo a traves de la App de Vítaly (Acércate Personas -Analíticas). // ENLACES DE INTERÉS: ', 'DEPARTAMENTO: INFORMACION VS TRABAJADORES // CONSULTA: Info orina // SOLUCION: Le indicamos que si no dispone de bote de muestra, se le facilitará uno en la recepción cuando acuda a la cita. Informamos de que no es necesario que la recogida sea la primera de la mañana. \\n\\n*Habitualmente los botes de orina se mandan a la empresa, cuando la planificación es a Grandes Cuentas o UM,  o a más de 20 trabajadores, desde planificación de zona. // ENLACES DE INTERÉS: ', 'DEPARTAMENTO: INFORMACION VS TRABAJADORES // CONSULTA: Info laboratorios // SOLUCION: Informo del laboratorio indicando dirección y horario. No requiere de planificación de cita. // ENLACES DE INTERÉS: https://docs.google.com/spreadsheets/u/0/d/1YKVdbCr5A8-fvv3GLrBjXZ51P1xoW41vEwqgAym8zKM/edit', 'DEPARTAMENTO: INFORMACION VS TRABAJADORES // CONSULTA: Contraseña reco // SOLUCION: Le informamos que para abrir el PDF la contraseña que debe poner es su DNI con la letra en mayúscula, todo junto y sin espacios // ENLACES DE INTERÉS: ', 'DEPARTAMENTO: INFORMACION VS TRABAJADORES // CONSULTA: Info ayuno // SOLUCION: Le indicamos que tiene que acudir con un ayuno mínimo de 4 a 6 horas.\\n\\nSI el trabajador no ha respetado el ayuno:\\nSe le recomienda que acuda al RRMM y exponga el caso para que el equipo médico le indique cómo proceder al respecto. // ENLACES DE INTERÉS: ', 'DEPARTAMENTO: INFORMACION VS TRABAJADORES // CONSULTA: Certificado de aptitud trabajador // SOLUCION: Si quien pide el certificado es el trabajador, nos aseguramos de que tiene autorización de la empresa para visualizarlo (VS/trabajador) pinchamos en la empresa y consultamos en la opción de consideraciones generales) y derivamos a APP VITALY para su descarga indicando que estará disponible aprox una semana después que el resultado del RRMM\\n\\nSI por algun error no estuviera colgado, aunque el expediente de reconocimiento médico estuviera finalizado y validado, entendemos que se trata de un error de la app, con lo que solicito reclamación y cap, para su gestión. \\n\\nSi le urge o no puede visualizarlo a través de la app le remito a su empresa, para que lo solicite a ellos. \\n\\nNO ESTA PERMITIDO ENVIAR CERTIFICADOS DE APTITUD A LOS TRABAJADORES // ENLACES DE INTERÉS: ', 'DEPARTAMENTO: INFORMACION VS TRABAJADORES // CONSULTA: Vacuna gripe // SOLUCION: INFO\\nDerivo a comercial 1\\n\\nCITA \\nDerivo a planificadora // ENLACES DE INTERÉS: ', 'DEPARTAMENTO: INFORMACION VS TRABAJADORES // CONSULTA: Retraso en la cita // SOLUCION: Confirmamos si realmente la empresa o trabajador tiene agendada la cita que comenta.\\n\\nIndicamos que damos una cortesía de 15 minutos y si llega mas tarde derivamos llamada en línea a planificación de zona para que confirme si hay posibilidad de que se atienda al trabajador o no. // ENLACES DE INTERÉS: ', 'DEPARTAMENTO: INFORMACION VS TRABAJADORES // CONSULTA: Anotaciones cambiantes vigilancia // SOLUCION: BAENA..........CLINICA JESUS DE NAZARENO ..... No citar mas de tres\\n\\nIBIZA............................no citar al menos hasta finalizar integracion \\n\\nAYUNTAMIENTO TERRASA.....................RRHH de su empresa\\n\\nTRANSPORT SANITARI CATALUNYA ......................RRHH de su empresa \\n\\nKIDS & US ENGLISH S.L...... enviar mail informando a  ctorras@kidsandus.com y notificacion de la cita al trbajador\\n\\nTORREJON DE ARDOZ....No citar para pruebas complementarias \\n\\nHUELVA..........av alemania 28 \\n\\nMonica Chico ya no esta en la empresa, derivar a Monica Boza\\n\\nNo prestaremos servicio al SPA: EUROPREVEN\\n\\nGrupo Avanta NO se atenderá\\n\\nCEDIPSA no remitir a acercate, enviar aptitudes a cada estacion \\n\\nIGNIPROYEC MADRID, S.L derivar a Irene Dorado\\n\\nBARBASTRO.............NO CITAR...............citacion.huesca\\n\\nArquitecto Fernández, 3 (Albacete) está de obra y los están derivando al centro de Albacete; P.I. CAMPOLLANO, 4ª AVENIDA, 38/ \\n\\nESTEPONA y MARBELLA ......................derivar a Rocio Rojas Aguilar \\n\\nSPA OTP no dar cita en Castellon, informamos de que no hay agenda disponible, no hay que enviar correo ni dar contacto de planificadora, me lo dijo Irene el otro día\\n\\nCARTOGRAFICA DE CANARIAS, S.A. (A38225926) no dar cita a los trabajadores,se encarga la empresa.\\n\\nCITA EN MATARÓ: Las gestiona MORENO CARBALLO, IRENE porque es un centro que pasa pocas consultas\\n\\nConcello de Pontevedra, NO se puede citar. Todo el personal se autocita en campaña a través de correo electrónico\\n\\n otis movility, me dice la planificadora que para cambiar las citas, tiene que llamar el responsable de la empresa\\n\\nIMAN TEMPORING E.T.T. S.L.................SOLO PUEDE GESTIONAR LA EMPRESA\\n\\nLa planificadora BURGOS PELÁEZ, JESSICA ELISABETH está de baja la esta sustituyendo Mª Cristina Mindeguia la extensión es 488605, es de San sebastián y lo suele coger\\n\\n\\nPONFERRARA GRUPO R ......En este centro de Ponferrada(León) no deis citas, pasar con ÁLVAREZ MENCÍA, MARÍA SOLEDAD\\n\\n DONTE GROUP prevención de riesgos laborales, si llama trabajador le indicáis que llamen a la empresa que se lo gestionan ellos\\n\\n\\nAZUL HANDLING SPAIN LTD  (W0110478E derivar a su empresa (rrhh)\\n\\nEn la ruta de beda pone lo siguiente: CLINICA CONCERTADA. Nos dan las citas a demanda. Aunque hubiera hueco libre no reservar. Hablar con Reyes García Lérida en el 238011 porque me ha pedido una cita una empresa ahí y lo he visto\\n\\nLas citas del gobierno/diputación de Castilla y León y Mercadona no se modifican, el cliente no permite que los trabajadores modifiquen las citas\\n\\nAROA GARVIA BENAVENTE está de baja, pasar llamada a cualquier planificadora de Villaverde\\n\\nMARIA GAYYARRE YA NO TRABAJA \\n\\nEl centro médico que es cesión de consulta NISA, NUEVAS INVERSIONES EN SERVICIOS, SA - CL DE CALLOSA D EN SARRIA 6 VITHAS HOSPITAL VIRGEN DEL CON SUELO 46007 (VALENCIA) se encuentra en las traseras de la Calle Jesus\\n\\nSi os solicitan citas en SARRIA, pasar con FAGILDE MARZÁN, LUCÍA porque es un centro un poco peculiar y los trabajadores tienen que ir a otro sitio a realizarse la analítica y me ha dicho Lucía que se lo pasemos a ella siempre\\n\\nRANDSTAD EMPLEO EMPRESA DE TRABAJO TEMPORAL, SA, tiene un buzon especifico de citacion al que deben escribir, cada provincia gestiona sus citas\\n\\nA tener en cuenta no modificar citas si llaman trabajadores de la empresa SOCIEDAD DE EXPlOTACIÓN DE REDES ELECTRÓNICAS Y SERVICIOS, no autorizan que sean los trabajadores los que cambien las citas.\\n\\nExtensiones asociadas a los buzones citación Cualtis Galicia.: Vigo: 368005, Pontevedra: 368203, Ourense: 328001, Lugo: 278001, Ferrol: 158201, A Coruña: 158129, Santiago: 158523 // ENLACES DE INTERÉS: ', 'DEPARTAMENTO: INFORMACION VS TRABAJADORES // CONSULTA: Envio justificante // SOLUCION: Prioritariamente informamos al trabajador de que tiene disponible su justificante en la APP VITALY, en la opción Vigilancia de la salud\\n\\nPor CRM/VS/Trabajadores\\nFiltramos trabajador desde vs/trabajadores/Historial médico: Comprobamos que esté subido. Envío al trabajador\\nSi no aparece contactamos en línea con la planificadora para que lo genere. // ENLACES DE INTERÉS: ', 'DEPARTAMENTO: INFORMACION VS TRABAJADORES // CONSULTA: Consentimiento informado // SOLUCION: Comprobar en VS: vs/trabajadores/filtrar por DNI/NIE del trabajador y comprobamos si están registrados en APP VITALY (Acércate Personas - Vigilancia de la salud - Mis citas). Sino, indicamos cómo hacerlo, según apartado anterior y simulamos para indicar la ruta a cumplimentar el formulario. \\n\\nEn caso de personas mayores o sin conocimientos indico que acudan al centro y allí se lo facilitan físicamente. // ENLACES DE INTERÉS: https://drive.google.com/file/d/1p13o_Fe9febWTcuB2iyZzen5p2x3j-ma/view?usp=sharing', 'DEPARTAMENTO: INFORMACION VS TRABAJADORES // CONSULTA: Envio reconocimiento en papel // SOLUCION: Si es una persona mayor y se detecte que no está acostumbrada a los canales digitales  o que nos indica que carece de correo electronico \\n\\nComprobamos en la ficha del trabajador que tiene incluido los datos de su dirección y solicito en envío del reconocimiento al trabajador a: envios@preving.com // ENLACES DE INTERÉS: ', 'DEPARTAMENTO: INFORMACION VS TRABAJADORES // CONSULTA: Realización de pruebas adicionales // SOLUCION: Revisar apartado 7 Manual citaciones CCC. // ENLACES DE INTERÉS: https://docs.google.com/document/d/1En9cGSRFaH9RPimCOqYOXX_GglP401icStYAK1Z-xPI/edit?usp=sharing', 'DEPARTAMENTO: INFORMACION VS TRABAJADORES // CONSULTA: Información/comunicación cita // SOLUCION: Confirmamos si realmente la empresa o trabajador tiene agendada la cita que comenta y facilitamos datos\\n\\nDesde vs/trabajador/historial de citas reenvio comunicación // ENLACES DE INTERÉS: ', 'DEPARTAMENTO: INFORMACION VS TRABAJADORES // CONSULTA: Renuncia reconocimiento // SOLUCION: Informo al cliente que la renuncia esta disponible en la app vitaly para los trabajadores cuyo puesto de trabajo lo permita (App: Acércate Personas - Vigilancia de la salud - Renuncia al reconocimiento).\\n\\nEn caso necesario también dispone de ella para hacerla llegar al trabajador en la extranet de clientes GESTIÓN DE PERSONAS // ENLACES DE INTERÉS: https://docs.google.com/document/d/1h0S9gct5e5OCVzhx3q2E150LWDIuHHIg/edit?usp=sharing&ouid=111029260252484110026&rtpof=true&sd=true', 'DEPARTAMENTO: INFORMACION VS TRABAJADORES // CONSULTA: Ausencia de análitica // SOLUCION: En los casos que la analitica no se encuentre adjunta al reconocimiento \\nComprobamos que esta correctamente subida a Vs o en su defecto que en la información del rrmm aparece código del laboratorio\\n\\nReclamamos enviando un mail a equipo médico que atiende, principalmente, a Enfermero. dejando PBO para su posterior envio al trabajador // ENLACES DE INTERÉS: ', 'DEPARTAMENTO: INFORMACION VS TRABAJADORES // CONSULTA: Volantes pruebas especiales // SOLUCION: En el caso que en la solicitud de la cita haya que hacer pruebas especificas, derivo siempre con planificadora. \\n\\nEn el caso que el equipo medico dictamine que son necesarias para la emision del certificado de aptitud será el equipo médico quien facilite el volante. // ENLACES DE INTERÉS: ', 'DEPARTAMENTO: INFORMACION VS TRABAJADORES // CONSULTA: Visualizar pruebas especiales // SOLUCION: Las posibles pruebas especiales realizadas le llegarían junto el resto de resultados, al final del documento.\\nTambién puede visualizarse dentro de la app de Vítaly accediendo a los apartados Acércate Personas - Vigilancia de la salud. \\nSi la prueba se obtiene por analítica debe acceder a las 3 rayitas del final y \"Esudios analíticos\".\\nSi es otro tipo de prueba (ejem. radio tórax) estará disponible e Otras pruebas. // ENLACES DE INTERÉS: ', 'DEPARTAMENTO: INFORMACION VS TRABAJADORES // CONSULTA: https://docs.google.com/presentation/d/1W2a5Bb_50wQUw9je6IvfmXJ28Fq9mDon/edit?usp=sharing&ouid=111029260252484110026&rtpof=true&sd=truePruebas especiales solicitadas por el trabajador // SOLUCION: Con la nueva actualización de la app ya es posible que los trabajadores añadan pruebas complementarias a su rrmm, \\nPara ello dispondrán de 10 días desde que se realizan la extracción y podrán añadirlas y pagarlas a través de la propia app // ENLACES DE INTERÉS: https://docs.google.com/presentation/d/1W2a5Bb_50wQUw9je6IvfmXJ28Fq9mDon/edit?usp=sharing&ouid=111029260252484110026&rtpof=true&sd=truePruebas', 'DEPARTAMENTO: INFORMACION VS TRABAJADORES // CONSULTA: Retraso en la cita // SOLUCION:  // ENLACES DE INTERÉS: ', 'DEPARTAMENTO: FORMACIÓN (FORMALIA) // CONSULTA: Envío de diplomas Vitaly- FORMALIA // SOLUCION: PROCEDIMIENTO\\n1.Prioritariamente informamos al cliente de la disponibilidad de diplomas en Acércate empresas. Asistimos en su descraga.\\n\\n2. Si la persona no tuviera acceso o quien llama es el trabajador buscamos a través de la aplicación de Ágora / Formación / empleados/filtramos DNI/NIE del trabajador:\\nEn caso de estar el diploma, nos anotaremos el número de acción, \\n y número de grupo -  la ruta sería: grupos/filtrar grupos/añadir número de acción/lupa desplegable/fecha(en ambos pondríamos la fecha de inicio del curso)/filtrar/num grupo/diplomas.Si nos aparece la flecha negra descargamos e enviamos al correo que nos indiquen.\\n\\nFiltramos por grupo y fecha de realización \\nDescargamos y enviamos al cliente \\nSI no estuviera disponible para descarga contacto con gestora del curso \\n\\n3.Si no lo encontramos: Abrimos CAP a formación/envío de diplomas informando del DNI del trabajador, detalles del curso y dirección de correo para el envío. // ENLACES DE INTERÉS: ', 'DEPARTAMENTO: FORMACIÓN (FORMALIA) // CONSULTA: Acceso a la formacion online // SOLUCION: Buscamos a través de la aplicación de Ágora / Formación / empleados/filtramos DNI/NIE del trabajador. Consultamos el curso y la gestora del mismo, a quien derivo con gestor o en su defecto con el tutor. // ENLACES DE INTERÉS: ', 'DEPARTAMENTO: FORMACIÓN (FORMALIA) // CONSULTA: Info  formación // SOLUCION: Me informo de si es cliente y compruebo en gestor de contactos si  ya han contactado con alguna compañera de formacion y paso con ella y en caso contrario derivo a comercial nivel 2 // ENLACES DE INTERÉS: ', 'DEPARTAMENTO: FORMACIÓN (FORMALIA) // CONSULTA: Consulta lugar/fecha/hora // SOLUCION: Derivo a comercial 1/2 // ENLACES DE INTERÉS: ', 'DEPARTAMENTO: FORMACIÓN (FORMALIA) // CONSULTA: Consulta asistencia a cursos // SOLUCION: Buscamos a través de la aplicación de Ágora / Formación / empleados/filtramos DNI/NIE del trabajador. Consultamos el curso y la gestora del mismo, a quien derivo. // ENLACES DE INTERÉS: ', 'DEPARTAMENTO: FORMACIÓN (FORMALIA) // CONSULTA: Titularidad Bancaria Formalia // SOLUCION: Empresas que solicitan certificado de titularidad de formalia // ENLACES DE INTERÉS: https://drive.google.com/file/d/15OJ9Y8UnAhuuXjEHth5hVQ9_BeWqTChw/view?usp=sharing', 'DEPARTAMENTO: FORMACIÓN (FORMALIA) // CONSULTA: CIF Formalia // SOLUCION:  // ENLACES DE INTERÉS: https://drive.google.com/file/d/1HLGNU0-g8OgOTdtQFDnqoS_E0ENS4Jha/view?usp=sharing', 'DEPARTAMENTO: FORMACIÓN (FORMALIA) // CONSULTA: Facturación Formalia // SOLUCION: jl.fernandez@vitaly.es\\nspratsa@cualtis.com \\nsomyanach@cualtis.com // ENLACES DE INTERÉS: ', 'DEPARTAMENTO: RECLAMACIONES / INCIDENCIAS // CONSULTA: Apertura seguimiento de reclamaciones // SOLUCION: Cuando un cliente llame trasladando una queja, procedemos a abrir reclamación, siempre que la misma no estuviera ya dada de alta en el sistema. Si existiera una reclamación ya registrada por ese motivo, accedemos a ella para aportar información y tratar de agilizarla. \\n\\nUna vez registrada la reclamación, hay que incluir una primera actuacion y hacer seguimiento diario de su estado realizando tantas actuaciones como sea necesario \\n\\nHay que prestar especial atención al area implicada y resolutoria asignando en cada caso a la que corresponda\\n\\nDejando además los datos de contacto de la persona que transmite la incidencia // ENLACES DE INTERÉS: ', 'DEPARTAMENTO: RECLAMACIONES / INCIDENCIAS // CONSULTA: Servicio prestado // SOLUCION: Areas implicadas: \\n\\nDepartamento técnico\\nDepartamento comercial \\nVIgilancia de la salud // ENLACES DE INTERÉS: ', 'DEPARTAMENTO: RECLAMACIONES / INCIDENCIAS // CONSULTA: Vigilancia // SOLUCION: Envio de certificados de aptitud\\nTrato recibido por parte del equipo médico \\nRetraso o falta de contacto de planificadora // ENLACES DE INTERÉS: ', 'DEPARTAMENTO: RECLAMACIONES / INCIDENCIAS // CONSULTA: Estrategia // SOLUCION: Inclusión de servicios como:\\nEcosistema de Salud\\nUpselling juridico\\nEstabilizador de precios \\nAbsentismo \\nMárgen bruto // ENLACES DE INTERÉS: https://docs.google.com/presentation/d/1pZBnx7BzODjHLpPPeNiOlmW7dXm4Gh-Q9NxLG5Rwb1c/edit?usp=sharing', 'DEPARTAMENTO: RECLAMACIONES / INCIDENCIAS // CONSULTA: Plataformas Externas - WORKSPACE (Extranet Clientes) // SOLUCION: Para cualquier incidencia relacionada con Workspace (volcado de datos, descarga de documentos...) // ENLACES DE INTERÉS: ', 'DEPARTAMENTO: RECLAMACIONES / INCIDENCIAS // CONSULTA: Plataformas Externas - APP VITALY // SOLUCION: Trabajadores con problemas de acceso en la app por un error o cambio en el correo // ENLACES DE INTERÉS: ', 'DEPARTAMENTO: RECLAMACIONES / INCIDENCIAS // CONSULTA: Facturación // SOLUCION: RRMM facturacion incorrecta \\nCompensación de RRMM no realizados en años anteriores\\nFacturas duplicadas // ENLACES DE INTERÉS: ', 'DEPARTAMENTO: RECLAMACIONES / INCIDENCIAS // CONSULTA: Columna 1 // SOLUCION:  // ENLACES DE INTERÉS: ', 'DEPARTAMENTO: DEPARTAMENTO TÉCNICO // CONSULTA: Técnico asociado // SOLUCION: Consulta técnico asociado pestaña GENERAL de CRM. Aparece el técnico gestor y su responsable.  \\n\\nEn el caso de que la empresa tenga  varios centros aparecerán varios técnicos, para saber cual es el asignado en un centro en concreto pregunto a la empresa sobre cual necesita la gestión. Tras ello, accedo a la pestaña centros de CRM, localizamos el centro que especifica el cliente y pulsamos el icono azul de 3 personas. Ahí podremos visualizar al técnico gestor del centro. \\n\\nSi no estuviera el gestor, ponemos un correo al CTZ (responsable, coordinador técnico de zona) // ENLACES DE INTERÉS: ', 'DEPARTAMENTO: DEPARTAMENTO TÉCNICO // CONSULTA: Empresas sin técnico asociado // SOLUCION: Empresas con contrato reciente que aún no aparezca técnico en CRM, derivamos a responsable de zona. \\nEn caso de que no podamos contactar disponemos de TECNICOS DE APOYO (Ir a la consulta: técnicos de apoyo). \\n\\nSi la empresa es nueva y le urge la gestión porque esté teniendo una inspección, la solicitud pasa por un servicio extra que debería contratar el cliente, por lo que habría que transferir con el comercial con el que firmo el contrato. // ENLACES DE INTERÉS: ', 'DEPARTAMENTO: DEPARTAMENTO TÉCNICO // CONSULTA: Diplomas de Art. 19 // SOLUCION: PROCEDIMIENTO\\n\\nVisualizamos los datos en Acércate empresas y enviamos al cliente \\nSI no estuviera en Acercate empresas solicitamos al tecnico quedando PBO \\n\\nARGUMENTARIO \\n\\nRecordamos al cliente la disponibilidad de los diplomas a  traves de la extranet y en caso de que no esten disponibles informamos que traspasamos con el técnico para que los genere // ENLACES DE INTERÉS: ', 'DEPARTAMENTO: DEPARTAMENTO TÉCNICO // CONSULTA: Formación Art 19 // SOLUCION: Esta formación es obligatoria para todos los trabajadores y se imparte cuando se dan de alta en la empresa. \\nPuede ser online o presencial, preferentemente presencial.\\nSi el trabajador cambia de empresa o de puesto de trabajo habría que hacerlo de nuevo. // ENLACES DE INTERÉS: https://drive.google.com/file/d/1t9p4G6F3ixNFXNZyTSE-5ECC1hxg3peh/view?usp=sharing', 'DEPARTAMENTO: DEPARTAMENTO TÉCNICO // CONSULTA: Firma del acta de visita // SOLUCION: Cuando un técnico hace una visita a las instalaciones de una empresa, envia a posteriori un correo para la firma del \"acta de visita\", donde se indican las recomendaciones a seguir por la empresa.\\n\\nNormalmente ponen de contacto a la persona que les acompaño en la visita. En ese caso, podemos seguir las pautas que se especifican en el archivo enlazado, para proceder con la firma.  \\nSI no coincidela persona a quien se dirige el acta, con el representante de la empresa,   derivamos al técnico \\nPara saber fecha de la ultima visitas técnicas consultamos en CRM/ RESUMEN/VISITAS TÉCNICAS y también podemos verificar la firma del acta, que estará cargada en la extranet, en informes técnicos con el nombre: RPRL // ENLACES DE INTERÉS: https://docs.google.com/document/d/1vcp2-dyMOhG8vE8yAZAxWP0ZTfOe20iw7qizB0swdSE/edit?usp=sharing', 'DEPARTAMENTO: DEPARTAMENTO TÉCNICO // CONSULTA: Numero de visitas técnicas // SOLUCION: Por contrato y a nivel general, el primer año se realizan 2 visitas. \\nA partir del 2º año 1 salvo inspección de trabajo o accidente laboral. \\nAdemás, las visitan van a depender del número de trabajadores. // ENLACES DE INTERÉS: https://docs.google.com/document/d/1vcp2-dyMOhG8vE8yAZAxWP0ZTfOe20iw7qizB0swdSE/edit?usp=sharing', 'DEPARTAMENTO: DEPARTAMENTO TÉCNICO // CONSULTA: Procedimiento ausencia técnico // SOLUCION: En caso de que la empresa necesite contactar con su técnico y no fuera posible de manera telefónica, enviamos un mail al mismo con copia a su responsable, para que se atienda la solicitud del cliente. En caso de que pasen los días y no recibamos respuesta, tratamos de verlo con algún coordinador de zona. // ENLACES DE INTERÉS: ', 'DEPARTAMENTO: DEPARTAMENTO TÉCNICO // CONSULTA: Procedimiento trabajadoras embarazadas // SOLUCION: Las trabajadoras embarazadas deben solicitar cita para reconocimiento (especialmente sensible)  aportando toda la documentacion que tenga del embarazo.\\nEsto se produce cuando se dirigen a su mutua y la mismas le pide un documento del servicio de prevención. // ENLACES DE INTERÉS: ', 'DEPARTAMENTO: DEPARTAMENTO TÉCNICO // CONSULTA: Articulo 18 // SOLUCION: Es un documento informativo que la empresa entrega a los trabajadores para su firma. \\nSe encuentra el la extranet en GESTION PREVENTIVA/MODELOS DE REGISTRO // ENLACES DE INTERÉS: ', 'DEPARTAMENTO: DEPARTAMENTO TÉCNICO // CONSULTA: Investigacion de accidentes // SOLUCION: Los conciertos habituales PRL sólo contemplan, por parte del técnico, la investigación de accidentes graves o muy graves. En estos casos, contactamos directamente con el técnico gestor. \\n\\nPara accidentes leves tienen disponible en la extranet un  documento en GESTION PREVENTIVA/MODELOS DE REGISTRO. // ENLACES DE INTERÉS: ', 'DEPARTAMENTO: DEPARTAMENTO TÉCNICO // CONSULTA: Entrega de EPIS // SOLUCION: Las propias empresas pueden gestionar la entrega de epis a sus trabajadores a través de la extranet \\nGESTIÓN DE PERSONAS/ ENTREGA DE EPIS // ENLACES DE INTERÉS: ', 'DEPARTAMENTO: DEPARTAMENTO TÉCNICO // CONSULTA: Tecnicos de apoyo // SOLUCION: NO FACILITO TELEFONO\\nNos ponemos en contacto nosotros con ellos por mail, dejando facilitando los datos de contacto la empresa, así como indicaciones de lo que solicitan. \\n\\nPERSONAS \\nTamara Martinez Matador \\nGermán González Haba_Gil \\nCarlos Ardila Vagace\\nSoraya Carrasco de la Rica // ENLACES DE INTERÉS: ', 'DEPARTAMENTO: ADEPLUS 551955 // CONSULTA: Contacto técnico adeplus // SOLUCION: PROCEDIMIENTO \\n\\nConsultamos que la empresa tiene contrato en vigor de Adeplus en el apartado Otras ofertas de CRM. Accedo a resumen y consulto su técnico asociado.\\n\\nARGUMENTARIO \\nInformo al cliente de que le paso con su técnico. En caso de que no esté disponible, mando un correo al mismo con los datos del lciente y detalle de la consulta. Dejo PBO para hacer seguimiento y asegurar que la gestión se lleva a cabo. // ENLACES DE INTERÉS: ', 'DEPARTAMENTO: ADEPLUS 551955 // CONSULTA: Protección de datos // SOLUCION: María Mariscal \\nPedro Lorenzo\\n\\nContacto tecnico de adeplus // ENLACES DE INTERÉS: ', 'DEPARTAMENTO: ADEPLUS 551955 // CONSULTA: Registro Horario // SOLUCION: María José Alonso \\nLeticia Bernardino // ENLACES DE INTERÉS: ', 'DEPARTAMENTO: ADEPLUS 551955 // CONSULTA: Planes de igualdad // SOLUCION: María Mariscal\\nMaría Naranjo // ENLACES DE INTERÉS: ', 'DEPARTAMENTO: ADEPLUS 551955 // CONSULTA: Canal ético // SOLUCION: María José Alonso\\nLeticia Bernardino // ENLACES DE INTERÉS: ', 'DEPARTAMENTO: ADEPLUS 551955 // CONSULTA: Compliance legal // SOLUCION: Esther Méndez // ENLACES DE INTERÉS: ', 'DEPARTAMENTO: LGTBI // CONSULTA: Suite protocolos (Acoso) // SOLUCION: María José Alonso \\nLeticia Bernardino // ENLACES DE INTERÉS: ', 'DEPARTAMENTO: LGTBI // CONSULTA: Normas ISO // SOLUCION: María José ALonso\\nMarina Luengo \\n\\nPROCEDIMIENTO : \\n\\nBusco el documento que me solicita la empresa en INTRANET/GESTIÓN  DOCUMENTAL/CRITERIO (ISO 9001, 14001....) y se lo hago llegar a través de email de genesys\\n\\nARGUMENTARIO \\nInformo al cliente que recibirá un email nuestro con la documentacion solicitada. Quedo a la espera para confirmar la recepción del correo. // ENLACES DE INTERÉS: ', 'DEPARTAMENTO: LGTBI // CONSULTA: Sostenibilidad // SOLUCION: Esther Méndez\\nVirginia Velázquez // ENLACES DE INTERÉS: ', 'DEPARTAMENTO: LGTBI // CONSULTA: Legal // SOLUCION: Esther Méndez\\nVirginia Velázquez // ENLACES DE INTERÉS: ', 'DEPARTAMENTO: LGTBI // CONSULTA: Higiene alimentaria // SOLUCION: María José Alonso \\nNerea Alonso // ENLACES DE INTERÉS: ', 'DEPARTAMENTO: LGTBI // CONSULTA: Facturación // SOLUCION: l.jobacho@preving.com\\nnatalia.serrano@preving.com\\nn.bueno@preving.com\\np.guerrero@preving.com // ENLACES DE INTERÉS: ', 'DEPARTAMENTO: CONTRATACIÓN // CONSULTA: Información nuevo contrato // SOLUCION: Derivo a comercial 1 // ENLACES DE INTERÉS: ', 'DEPARTAMENTO: CONTRATACIÓN // CONSULTA: Anexos // SOLUCION: QUÉ SOLICITAR POR ANEXO:\\n\\nDATOS GENERALES: \\nModificación dirección postal: podemos hacerlo nosotros mismos a través de las opciones de CRM.\\nRazón social o tipo de sociedad\\nProvincia/ Localidad\\nDireccion social/fiscal/centro de trabajo \\nRepresentante y NIF de representante \\n\\nALTA BAJA CENTRO DE TRABAJO \\n\\nMODIFICACION  NUMERO DE TRABAJADORES \\n\\nDATOS DE FACTURACIÓN \\nForma de pago\\nPeriodicidad\\nTérminos de pago\\n\\nPRECIOS Y SERVICIOS \\n\\nSERVICIOS VARIABLES \\nOtros servicios\\n\\n\\nQUE SOLICITAR POR CAP \\n\\nModificación de CNAE\\nCambio de delegación de centros activos \\nModificar centro principal por otro activo de la oferta\\nCreación de grupos // ENLACES DE INTERÉS: ', 'DEPARTAMENTO: CONTRATACIÓN // CONSULTA: Certificados contratación // SOLUCION: Prioritariamente compruebo si no han podido consultarlos por extranet (recuerdo plataforma, usuario, ruta…)\\n\\nSi hubiera algún bloqueo puntual de la plataforma enviamos certificados a través de CRM: Ofertas prl.  \\n\\nConfirmamos con el cliente la dirección de correo al que enviarlo y su recepción.\\n\\n** En caso // ENLACES DE INTERÉS: ', 'DEPARTAMENTO: CONTRATACIÓN // CONSULTA: Consulta contrato // SOLUCION: Accedemos a CRM/Ofertas PRL/Vamos a la ficha de contrato y explicamos en cuanto a disciplinas contempladas, fecha de contrato, precios, términos de pago… \\t\\n\\nBREVE EXPLICACIÓN: \\nEl servicio de prevención ajeno esta compuesto por 4 especialidades\\nPT (Seguridad, Higiene y Ergonomia) \\nVS (Medicina del Trabajo) \\n\\nToda empresa o autonomo con trabajadores a cargo tienen la obligación de tener un servicio de prevencion contratado \\n\\nLa Prevención técnica consiste en toda la documentación que elabora el técnico a través de las visitas y la formación.\\n\\nMedicina del trabajo consiste en informe y protocolos relacionados con la salud en los diferentes puestos de trabajo // ENLACES DE INTERÉS: ', 'DEPARTAMENTO: CONTRATACIÓN // CONSULTA: Envío contrato // SOLUCION: PRODEDIMIENTO \\n\\nCompruebo si no han podido verla por extranet (recuerdo plataforma, usuario, ruta…) Asisto en la gestión. \\n\\nSi no se encuentra en la plataforma, es porque no está digitalizado el documento, con lo que dejo la solicitud PBO con el cierre CONTRATOS e indicando datos de contacto de la empresa , modificando el area resolutoria desde mi PBO a CONTRATACION \\n\\nARGUMENTARIO \\nRecuerdo al cliente la disponibilidad de sus documentos a  través de la extranet y en caso que no este disponible , informamos que lo hemos solicitado y se lo hacemos llegar // ENLACES DE INTERÉS: ', 'DEPARTAMENTO: BAJAS // CONSULTA: Solicitud de baja // SOLUCION: PROCEDIMIENTO:\\n\\nMe informo del motivo y le transfiero la llamada a la cola de BAJAS EXTERNAS. En caso de que no sea posible transferir la llamada, registraré la solicitud de baja en el CRM\\n\\nARGUMENTARIO \\n\\nInformamos al cliente que un estor especializado se pondrá en contacto en el pazo de 48 horas para poder tramitar la baja // ENLACES DE INTERÉS: ', 'DEPARTAMENTO: BAJAS // CONSULTA: Gestión de bajas // SOLUCION: PROCEDIMIENTO\\n\\nCompruebo el gestor asignado Transfiero la llamada al gestor. En caso de que no sea posible transferir la llamada, le enviaré una comunicación para que se ponga en contacto con el cliente lo antes posible, facilitándole el teléfono y la persona de contacto.\\n\\nARGUMENTARIO \\nInformo al cliente que le vamos  a transferir con el gestor de su baja // ENLACES DE INTERÉS: ', 'DEPARTAMENTO: BAJAS // CONSULTA: Bajas cualtis // SOLUCION: Para empresas Cualtis que soliciten la baja NO traspasamos a Bajas Ext. sino que solicitamos directamente la baja en CRM\\n\\nSolicitamos al cliente que envíe el documento de solicitud de bajas  a bajas@preving.com \\nEn los casos de cese o falta de trabajadores solicitar el 036 y la vida laboral de empresa.\\nIndicamos al cliente que va a recibir un mail con la solicitud de baja y que en 48 se pondrán en contacto con ellos // ENLACES DE INTERÉS: ', 'DEPARTAMENTO: TECNOLOGÍA // CONSULTA: Incidencias extranet clientes // SOLUCION: La vía de comunicación con tecnología para incidencias siempre la reclamación, que se resolverá con un CAP. En el asunto del cap dejaremos el número de la reclamación + NOMBRE y  CIF  de empresa.  En la reclamación crearemos una actuación indicando el número del cap. \\nEn este caso la ruta será:  cap/tecnología/apilcativo clientes/workspace // ENLACES DE INTERÉS: ', 'DEPARTAMENTO: TECNOLOGÍA // CONSULTA: Incidencias app // SOLUCION: La vía de comunicación con tecnología para incidencias siempre la reclamación, que se resolverá con un CAP. En el asunto del cap dejaremos el número de la reclamación + NOMBRE y  CIF  de empresa.  En la reclamación crearemos una actuación indicando el número del cap. \\nEn este caso la ruta será:  cap/tecnología/apilcativo clientes/APP // ENLACES DE INTERÉS: ', 'DEPARTAMENTO: TECNOLOGÍA // CONSULTA: Incidencias intranet // SOLUCION:  // ENLACES DE INTERÉS: ', 'DEPARTAMENTO: TECNOLOGÍA // CONSULTA: Incidencias Hardware // SOLUCION: Carlos Moreno\\nAroa Guerrero \\nDavid Diaz\\nIván Hurtado // ENLACES DE INTERÉS: ', 'DEPARTAMENTO: CONTACT CENTER // CONSULTA: Colas mail // SOLUCION: CITAS\\nCOM 1/2\\nCALIDAD // ENLACES DE INTERÉS: ', 'DEPARTAMENTO: CONTACT CENTER // CONSULTA: Colas canales digitales // SOLUCION: CITAS\\nCOM 1/2\\nPERSONAS // ENLACES DE INTERÉS: ', 'DEPARTAMENTO: CONTACT CENTER // CONSULTA: Colas llamadas // SOLUCION: VIGILANCIA \\nCOM 1/2\\nBAJAS EXTERNAS // ENLACES DE INTERÉS: ', 'DEPARTAMENTO: CONTACT CENTER // CONSULTA: Teléfonos contacto // SOLUCION:  // ENLACES DE INTERÉS: ', 'DEPARTAMENTO: CONTACT CENTER // CONSULTA: Traspasos a cola // SOLUCION:  // ENLACES DE INTERÉS: https://drive.google.com/file/d/10-oev5tSokA80Cu42ZyPnXcv0VApkmzR/view?usp=sharing', 'DEPARTAMENTO: PLATAFORMAS EXTERNAS // CONSULTA: Vitaly Workspace alta/baja usuarios // SOLUCION: CONSULTA USUARIO \\nCRM/Extranet de clientes: consultar si tiene email correcto y si necesita crear nuevo.\\n\\nNUEVO USUARIO\\nCRM/ Extranet de clientes/ simulamos acceso y vamos a configuración/ Gestión de usuarios. \\nAlta de usuario: Completamos los campos para realizar el registro.\\n\\nEn el caso de que ninguno de los usuarios registrados tenga el rol de administrador, derivo la gestion a las personas indicadas con el rol superusuario, dentro de la empresa. Informamos de ello a la persona que nos llama. \\n \\nAdemás, podemos abordar la gestión si recibimos la solicitud por cualquier medio (voz, chat, whastapp o mail) de acceso o vinculación de usuarios a una misma empresa, tras la comprobación detectamos que necesitamos el rol, con lo que tipificamos la llamada con el cierre WORKSPACE (acceso a extranet) y dejamos pendiente de back office. Habrá dos personas revisando estas tareas, Montse y Esther, que forman parte del equipo de Atención al cliente, como Back Office. IMPORTANTE: Dejar en observaciones datos concretos de la petición: mail que haya que asignar, empresas que vincular, incluso persona de contacto. \\n\\n2. La interacciones de mail, ya sean del canal sac email o workspace mail, vamos a transferirlos a las personas identificadas con el rol: \\n+ Mari Ángeles Trinidad\\n+ Jose Luis\\n+ Alba\\n+ María José Arias\\n+ Marisa\\n\\nENVÍO DE CONTRASEÑA \\nAccesdemos a la extranet simulando con un usuario, nos dirigimos al menú de configuración y visualizamos lo susuarios registrados. Pinchamos en el lápiz del que queremos enviar la contraseña y aplicamos en la opción de enviar contraseña. // ENLACES DE INTERÉS: ', 'DEPARTAMENTO: PLATAFORMAS EXTERNAS // CONSULTA: Guía workspace empresas // SOLUCION: Para empresas que soliciten información del manejo de la extranet de clientes  disponemos de una guía de uso que podemos hacer llegar al cliente. \\nAdemás, podemos recordarle que en la propia extraent existe un opción de videoayudas, del icono de ayudas (?), esquina superior derecha de la web. // ENLACES DE INTERÉS: https://drive.google.com/file/d/1HFY45CvNCAcm_zYlcmpovJ3upExix8Xo/view?usp=sharing', 'DEPARTAMENTO: PLATAFORMAS EXTERNAS // CONSULTA: APP Vitaly // SOLUCION:  // ENLACES DE INTERÉS: https://docs.google.com/document/d/1I0pjm7hE-0o9lkxfATSTPXYzBxxPIBP1_VQA1YulfxA/edit?usp=sharing', 'DEPARTAMENTO: PLATAFORMAS EXTERNAS // CONSULTA: Plataforma cae Cualtis // SOLUCION: 1 - Si la consulta es sobre la plataforma ACÉRCATE CAE, indicar que deben hacer la consulta a través de la propia plataforma. En la parte de PRL-> comunicaciones -> solicitudes e incidencias\\n\\n2 - Si la consulta es sobre la plataforma CAE21, indicar que pueden ponerse en contacto con el equipo de soporte a través del teléfono: 923197254, y si no pueden contactar, pueden hacerlo a través de la propia plataforma, accediendo al apartado: Configuración y ayuda: Incidencias // ENLACES DE INTERÉS: ', 'DEPARTAMENTO: PLATAFORMAS EXTERNAS // CONSULTA: Plataforma CAE // SOLUCION: La pregunta que haremos siempre es: ¿Para qué cliente tienen que gestionar la documentación? \\n\\nConsultamos el excel compartido de cliente CAE.\\nSi el cliente está en el listado, facilitamos los datos de contacto de la plataforma al usuario de la misma. \\nSi no se encuentra en el listado derivamos al contacto de la propia plataforma: SOPORTE.CAE@VITALY.ES // ENLACES DE INTERÉS: https://docs.google.com/spreadsheets/u/0/d/15Jm_6W4yxXG64kzUZ2I000Fdv7usC2rF/edit', 'DEPARTAMENTO: PLATAFORMAS EXTERNAS // CONSULTA: Info ecosistema // SOLUCION: Para clientes que soliciten un documento para sus trabajadores en el que se detallen los servicios de ecosistema. \\n\\nLas personas que gestionan la dinamización del ecosistema en grandes cuentas  son:\\nFelix Fernandez y Conxi Aloy // ENLACES DE INTERÉS: https://drive.google.com/file/d/1Ct57rA56T_QuhWYm1hYj3fY_JETsuUCN/view?usp=sharing', 'DEPARTAMENTO: PERSONAS // CONSULTA: Prácticas // SOLUCION: PRACTICAS@VITALY.ES // ENLACES DE INTERÉS: ', 'DEPARTAMENTO: PERSONAS // CONSULTA: Envío curriculo // SOLUCION: Derivamos siempre a la pagina web de Vitaly, donde podrán inscribirse en las ofertas de empleo disponibles, así como enviar el cv.  \\nEn el caso de querer enviar el curriculum también pueden hacerlo al mail de: TALENTO@PREVING.COM // ENLACES DE INTERÉS: ', 'DEPARTAMENTO: PERSONAS // CONSULTA: Contactos generales // SOLUCION: GENERALES\\n911594000\\n602252252\\n\\natencion.cliente@vitaly.es\\ncitacion.vsalud@preving.com\\n\\nBAJAS DIRECTO 911590005\\nCOMERCIAL DIRECTO 602252252 // ENLACES DE INTERÉS: ', 'DEPARTAMENTO: INFORMACIÓN AUXILIAR // CONSULTA: Infraestructuras // SOLUCION: infraestructura@preving.com\\n\\nPara consultas o incidencias sobre locales, vehículos, etc. en alguna sede \\nJaime Serrano \\nRafael Gomez (dirección) // ENLACES DE INTERÉS: ', 'DEPARTAMENTO: INFORMACIÓN AUXILIAR // CONSULTA: Licitaciones // SOLUCION: Gema Aberturo \\nSoledad Jaime // ENLACES DE INTERÉS: ', 'DEPARTAMENTO: INFORMACIÓN AUXILIAR // CONSULTA: Marketing // SOLUCION: marketing@vitaly.es // ENLACES DE INTERÉS: ', 'DEPARTAMENTO: INFORMACIÓN AUXILIAR // CONSULTA: Apartamentos badajoz // SOLUCION: Claudio Gutierrez\\nc.gutierrez@sterlingcapital.es // ENLACES DE INTERÉS: ', 'DEPARTAMENTO: INFORMACIÓN AUXILIAR // CONSULTA: Pistas de padel y gimnasio // SOLUCION: GIMNASIO Y PISCINA \\nSPZ \\nPISTA DE PADEL \\nGestion interna de reserva gratuita para trabajadores a traves de Calendar // ENLACES DE INTERÉS: ', 'DEPARTAMENTO: INFORMACIÓN AUXILIAR // CONSULTA: Fusión preving-cualtis // SOLUCION: Empresas que solicitan documentación  sobre la fusión entre Preving y Cualtis. // ENLACES DE INTERÉS: https://drive.google.com/file/d/1xERboEfR8PGggkeo43LBPwuEff9hKNYt/view?usp=sharing', 'DEPARTAMENTO: INFORMACIÓN AUXILIAR // CONSULTA: LLamadas de compañeros // SOLUCION: Cuando recibamos llamadas de compañeros indicando que les pasemos con algún departamento, informamos de la disponibilidad de localizar sus extensiones a través del directorio,  así como la forma de realizar la llamada pulsando la opción 4 de la locución. \\nEstas llamadas se tipifican como empleado, buscando al compañero en CRM/Empleados i identificando su id, al igual que las empresas. La transferencia de llamada es SIN CONSULTA. // ENLACES DE INTERÉS: ', 'DEPARTAMENTO: INFORMACIÓN AUXILIAR // CONSULTA: Ofertas de nuevos servicios. Proveedores // SOLUCION: En el caso de empresas que deseen ofrecer sus servicios o productos derivo a \\nCOMPRAS@PREVING.COM // ENLACES DE INTERÉS: ', 'DEPARTAMENTO: INFORMACIÓN AUXILIAR // CONSULTA: CIF Vitaly // SOLUCION:  // ENLACES DE INTERÉS: https://drive.google.com/file/d/1VGKJHI1wgFAu2ggI8GebnV7IPOjZqWJo/view?usp=sharing', 'DEPARTAMENTO: INFORMACIÓN AUXILIAR // CONSULTA: Correos genéricos // SOLUCION:  // ENLACES DE INTERÉS: https://docs.google.com/document/d/1hoabPqKSeDvf4P_QTaIq2cKAaXZTlR6Q7_hDN5d3aWU/edit?usp=sharing']\n"
          ]
        }
      ],
      "source": [
        "# Asumiendo columnas 'Departamento', 'Necesidad', 'Procedimiento', 'Enlaces de Interés'\n",
        "df['documento_completo'] = \"DEPARTAMENTO: \" + df['DEPARTAMENTO'] + \" // CONSULTA: \" + df['CONSULTA'] + \" // SOLUCION: \" + df['SOLUCIÓN'] + \" // ENLACES DE INTERÉS: \" + df['ENLACES DE INTERÉS']\n",
        "documents = df['documento_completo'].tolist()\n",
        "\n",
        "print(documents)\n"
      ]
    },
    {
      "cell_type": "markdown",
      "source": [
        "Se generan embeddings para cada procedimiento utilizando el modelo text-embedding-3-small de OpenAI"
      ],
      "metadata": {
        "id": "xx_BPBmMMPJH"
      }
    },
    {
      "cell_type": "code",
      "execution_count": 10,
      "metadata": {
        "id": "1PA0EXr8RtvE"
      },
      "outputs": [],
      "source": [
        "import os\n",
        "from langchain_openai import OpenAIEmbeddings\n",
        "\n",
        "# Set the OpenAI API key as an environment variable\n",
        "os.environ[\"OPENAI_API_KEY\"] = userdata.get('OPEN_AI_APIKEY')\n",
        "\n",
        "# Seleccionamos el modelo de embeddings\n",
        "embeddings_model = OpenAIEmbeddings(model=\"text-embedding-3-small\")\n",
        "\n",
        "# Generar embeddings para todos los documentos\n",
        "document_embeddings = embeddings_model.embed_documents(documents)"
      ]
    },
    {
      "cell_type": "markdown",
      "metadata": {
        "id": "5oXarvcgTo42"
      },
      "source": [
        "Implementación del RAG Básico (Núcleo de la PoC) : Se define una función **find_similar_documents** que busca los procedimientos más similares a una consulta dada utilizando la similitud del coseno."
      ]
    },
    {
      "cell_type": "code",
      "execution_count": 11,
      "metadata": {
        "id": "Xz3bt3fHTrDB"
      },
      "outputs": [],
      "source": [
        "from sklearn.metrics.pairwise import cosine_similarity\n",
        "import numpy as np\n",
        "\n",
        "# Encuentra los docuementos más similares a la pregunta de un usuario\n",
        "def find_similar_documents(query, top_n=3):\n",
        "  # Convierte la pregunta en un embedding o representación numérica\n",
        "  query_embedding = embeddings_model.embed_query(query)\n",
        "  # Calcular similitud entre el embedding de la consulta y todos los embeddings de documentos\n",
        "  similarities = cosine_similarity([query_embedding], document_embeddings)[0]\n",
        "  # Obtener los índices de los más similares (coseno)\n",
        "  top_indices = np.argsort(similarities)[-top_n:][::-1]\n",
        "  # Devolver los textos de los documentos más relevantes\n",
        "  relevant_docs = [documents[i] for i in top_indices]\n",
        "  return relevant_docs"
      ]
    },
    {
      "cell_type": "markdown",
      "metadata": {
        "id": "fYp2aVuDT28b"
      },
      "source": [
        "Se define una plantilla de prompt para el modelo de lenguaje gpt-4 que incluye el contexto relevante y la pregunta del usuario."
      ]
    },
    {
      "cell_type": "code",
      "execution_count": 12,
      "metadata": {
        "id": "eXXtPpfjT5z7"
      },
      "outputs": [],
      "source": [
        "from langchain_openai import ChatOpenAI\n",
        "\n",
        "# Elegimos modelo y temperatura. Valor nulo de temperatura porque queremos una respuesta más precisa\n",
        "llm = ChatOpenAI(model=\"gpt-4\", temperature=0)\n",
        "\n",
        "from langchain_core.prompts import ChatPromptTemplate\n",
        "\n",
        "# Plantilla de Prompt\n",
        "prompt_template = \"\"\"\n",
        "Eres un asistente que van a usar únicamente los trabajadores (agentes) de un contact center corporativo.\n",
        "Responde la pregunta del agente basándote SOLAMENTE en los siguientes procedimientos extraídos de nuestra base de datos.\n",
        "Es IMPORTANTE que solamente si hay algún enlace de interés relacionado, se adjunte el mismo al final de la respuesta.\n",
        "Estos enlaces de interés vendrán en el formato: 'Enlace de Interés: [URL]'. Si no hay enlaces esta bloque no aparecerá\n",
        "\n",
        "Contexto (Procedimientos Relevantes extraídos del manual del operador):\n",
        "{context}\n",
        "\n",
        "Pregunta del Agente (un agente es el trabajador del Contact Center):\n",
        "{question}\n",
        "\n",
        "Respuesta:\n",
        "\"\"\"\n",
        "prompt = ChatPromptTemplate.from_template(prompt_template)\n"
      ]
    },
    {
      "cell_type": "markdown",
      "source": [
        "Creación de la Cadena RAG: Se utiliza LangChain para crear una cadena que conecta los diferentes componentes del sistema RAG, incluyendo la búsqueda de información, la generación de embeddings y la generación de respuestas."
      ],
      "metadata": {
        "id": "lQtBSd2TMnWZ"
      }
    },
    {
      "cell_type": "code",
      "execution_count": 13,
      "metadata": {
        "id": "QN6niyyEUw8S",
        "collapsed": true
      },
      "outputs": [],
      "source": [
        "\n",
        "from langchain_core.output_parsers import StrOutputParser\n",
        "from langchain_core.prompts import ChatPromptTemplate\n",
        "from langchain_core.runnables import RunnablePassthrough, RunnableLambda\n",
        "from langchain_openai import ChatOpenAI\n",
        "\n",
        "# Función auxiliar para formatear los documentos recuperados\n",
        "def format_docs(docs):\n",
        "  \"\"\"Combina la lista de documentos recuperados en un solo string.\"\"\"\n",
        "  return \"\\n\\n\".join(doc for doc in docs)\n",
        "\n",
        "# Cadena RAG Simple (Usando LangChain)\n",
        "\n",
        "\n",
        "# rag_chain actúa como una línea de ensamblaje:\n",
        "\n",
        "# toma la pregunta de un usuario, encuentra información relevante en la base de conocimiento,\n",
        "# prepara un prompt para el modelo de lenguaje, obtiene una respuesta y\n",
        "# la entrega de vuelta en un formato amigable para el usuario.\n",
        "# Este es el proceso central de un sistema RAG, que combina la recuperación\n",
        "# de información con la generación de modelos de lenguaje.\n",
        "\n",
        "\n",
        "# La entrada a esta cadena será la pregunta del usuario (un string)\n",
        "rag_chain = (\n",
        "    {\n",
        "        # 1. Recuperar contexto: Llama a find_similar_documents con la pregunta de entrada,\n",
        "        #    luego formatea los documentos resultantes usando format_docs.\n",
        "        \"context\": RunnableLambda(find_similar_documents) | RunnableLambda(format_docs),\n",
        "\n",
        "        # 2. Pasar la pregunta original: RunnablePassthrough() toma la entrada original\n",
        "        #    (la pregunta del usuario) y la pasa bajo la clave \"question\".\n",
        "        \"question\": RunnablePassthrough()\n",
        "    }\n",
        "    # 3. Llenar el prompt: El diccionario {\"context\": ..., \"question\": ...} se usa para llenar la plantilla.\n",
        "    | prompt\n",
        "    # 4. Llamar al LLM: El prompt formateado se envía al modelo de lenguaje.\n",
        "    | llm\n",
        "    # 5. Extraer la respuesta: Se obtiene el contenido de la respuesta del LLM como string.\n",
        "    | StrOutputParser()\n",
        ")\n",
        "\n",
        "\n",
        "from IPython.display import display, HTML\n",
        "\n",
        "# CSS para ajustar el texto\n",
        "css = \"\"\"\n",
        "<style>\n",
        ".output {\n",
        "    word-wrap: break-word;\n",
        "    white-space: pre-wrap;\n",
        "}\n",
        "</style>\n",
        "\"\"\"\n",
        "\n",
        "\n"
      ]
    },
    {
      "cell_type": "markdown",
      "source": [
        "Pruebas puntuales"
      ],
      "metadata": {
        "id": "-7WfGEmRMuHU"
      }
    },
    {
      "cell_type": "code",
      "source": [
        "\n",
        "# Ejemplo de cómo invocar la cadena (asumiendo que `mi_consulta` es un string)\n",
        "mi_consulta = \"Quiere una analitica de orina\"\n",
        "print(mi_consulta)\n",
        "print(\"......\\n\")\n",
        "respuesta = rag_chain.invoke(mi_consulta)\n",
        "\n",
        "# Mostrar la cadena con el CSS aplicado\n",
        "display(HTML(css + '<div class=\"output\">' + respuesta + '</div>'))\n",
        "\n",
        "\n",
        "print(\"\\n\\n-----------------------------\\n\")\n",
        "\n",
        "\n",
        "mi_consulta = \"Ahora dice que necesita que le aclaren una factura\"\n",
        "print(mi_consulta)\n",
        "print(\"......\\n\")\n",
        "respuesta = rag_chain.invoke(mi_consulta)\n",
        "\n",
        "display(HTML(css + '<div class=\"output\">' + respuesta + '</div>'))\n",
        "\n",
        "\n",
        "print(\"\\n\\n-----------------------------\\n\")\n",
        "\n",
        "\n",
        "mi_consulta = \"¿Con quiéen puedo hablar para que me manden la factura del mes pasado?\"\n",
        "print(mi_consulta)\n",
        "print(\"......\\n\")\n",
        "respuesta = rag_chain.invoke(mi_consulta)\n",
        "\n",
        "display(HTML(css + '<div class=\"output\">' + respuesta + '</div>'))\n"
      ],
      "metadata": {
        "colab": {
          "base_uri": "https://localhost:8080/",
          "height": 434
        },
        "id": "K2rwvrgr-qfK",
        "outputId": "6ebbce86-8235-4e07-fb23-65f7b53b85f6"
      },
      "execution_count": 14,
      "outputs": [
        {
          "output_type": "stream",
          "name": "stdout",
          "text": [
            "Quiere una analitica de orina\n",
            "......\n",
            "\n"
          ]
        },
        {
          "output_type": "display_data",
          "data": {
            "text/plain": [
              "<IPython.core.display.HTML object>"
            ],
            "text/html": [
              "\n",
              "<style>\n",
              ".output {\n",
              "    word-wrap: break-word;\n",
              "    white-space: pre-wrap;\n",
              "}\n",
              "</style>\n",
              "<div class=\"output\">Le indicamos que si no dispone de bote de muestra, se le facilitará uno en la recepción cuando acuda a la cita. Informamos de que no es necesario que la recogida sea la primera de la mañana. Habitualmente los botes de orina se mandan a la empresa, cuando la planificación es a Grandes Cuentas o UM, o a más de 20 trabajadores, desde planificación de zona.</div>"
            ]
          },
          "metadata": {}
        },
        {
          "output_type": "stream",
          "name": "stdout",
          "text": [
            "\n",
            "\n",
            "-----------------------------\n",
            "\n",
            "Ahora dice que necesita que le aclaren una factura\n",
            "......\n",
            "\n"
          ]
        },
        {
          "output_type": "display_data",
          "data": {
            "text/plain": [
              "<IPython.core.display.HTML object>"
            ],
            "text/html": [
              "\n",
              "<style>\n",
              ".output {\n",
              "    word-wrap: break-word;\n",
              "    white-space: pre-wrap;\n",
              "}\n",
              "</style>\n",
              "<div class=\"output\">Para aclarar una factura, primero necesito saber sobre qué factura específica es la consulta. Una vez que tenga esa información, puedo explicar lo que se requiera utilizando como recurso el CRM, las Ofertas PRL, el Contrato aceptado (candado cerrado) y los Servicios ofertados, siempre fijándome en el ID de la oferta. \n",
              "\n",
              "Le explicaré al cliente de forma breve y clara qué incluye su contrato, aclarando los servicios incluidos y dándole la opción de añadir los que desee. Si hay alguna duda o inquietud adicional, no dude en preguntar.</div>"
            ]
          },
          "metadata": {}
        },
        {
          "output_type": "stream",
          "name": "stdout",
          "text": [
            "\n",
            "\n",
            "-----------------------------\n",
            "\n",
            "¿Con quiéen puedo hablar para que me manden la factura del mes pasado?\n",
            "......\n",
            "\n"
          ]
        },
        {
          "output_type": "display_data",
          "data": {
            "text/plain": [
              "<IPython.core.display.HTML object>"
            ],
            "text/html": [
              "\n",
              "<style>\n",
              ".output {\n",
              "    word-wrap: break-word;\n",
              "    white-space: pre-wrap;\n",
              "}\n",
              "</style>\n",
              "<div class=\"output\">Para obtener la factura del mes pasado, primero debemos verificar por qué no la ha recibido. Comprobaremos el correo electrónico de envío y recurriremos a la extranet como soporte. Buscaremos la factura en la pestaña e-fra. de CRM, la descargaremos en PDF y se la enviaremos por correo electrónico a través de Genesys. Aseguraremos la recepción del envío. Si la factura no se encuentra en CRM, cerraremos la consulta tipificando PBO Envio y consulta y facturas. Es importante que tipifiquemos tanto la llamada como el correo electrónico que ha motivado el envío de la factura.</div>"
            ]
          },
          "metadata": {}
        }
      ]
    },
    {
      "cell_type": "markdown",
      "metadata": {
        "id": "QxgjNr0Uy2eV"
      },
      "source": [
        "## 1. Chatbot\n",
        "A continuación se implementa un chatbot interactivo basado en los apartados anteriores que permite a los usuarios realizar consultas y obtener respuestas del sistema RAG."
      ]
    },
    {
      "cell_type": "markdown",
      "source": [
        "Estilos para la salida del chatbot:"
      ],
      "metadata": {
        "id": "l4jCpiNFM-MU"
      }
    },
    {
      "cell_type": "code",
      "execution_count": 15,
      "metadata": {
        "id": "cuJAjTPWCr_H"
      },
      "outputs": [],
      "source": [
        "from IPython.display import display, HTML\n",
        "\n",
        "# CSS para ajustar el texto\n",
        "css = \"\"\"\n",
        "<style>\n",
        ".user-message {\n",
        "    background-color: #f2f2f2; /* Gris claro para usuario */\n",
        "    color: #333333;\n",
        "    padding: 10px;\n",
        "    border-radius: 5px;\n",
        "    margin-bottom: 5px;\n",
        "    text-align: left; /* Alinea el texto a la izquierda */\n",
        "}\n",
        "\n",
        ".bot-message {\n",
        "    background-color: #e0f7fa; /* Celeste claro para chatbot */\n",
        "    color: #333333;\n",
        "    padding: 10px;\n",
        "    border-radius: 5px;\n",
        "    margin-bottom: 5px;\n",
        "    text-align: left; /* Alinea el texto a la izquierda */\n",
        "}\n",
        "\n",
        ".message-text {\n",
        "    margin: 0;\n",
        "    font-size: 14px; /* Ajusta el tamaño de fuente */\n",
        "    line-height: 1.4; /* Ajusta el interlineado */\n",
        "}\n",
        "</style>\n",
        "\"\"\""
      ]
    },
    {
      "cell_type": "markdown",
      "source": [
        "Funciones de ayuda para determinar cuándo salimos del chatbot, para mostrar la salida en un estilo HTML amigable, y la función que implementa el chatbot"
      ],
      "metadata": {
        "id": "P8bQS_OfNCVm"
      }
    },
    {
      "cell_type": "code",
      "execution_count": 16,
      "metadata": {
        "id": "DH3A1qDjCtWX"
      },
      "outputs": [],
      "source": [
        "\n",
        "def check_exit_input(user_input):\n",
        "    exit_phrases = [\"adios\", \"hasta luego\", \"chao\", \"nos vemos\", \"salir\"]\n",
        "    return any(phrase in user_input.lower() for phrase in exit_phrases)\n",
        "\n",
        "def display_chat_message(message, sender):\n",
        "    if sender == \"user\":\n",
        "        display(HTML(css + f'<div class=\"user-message\"><p class=\"message-text\"><b>Usuario:</b> {message}</p></div>'))\n",
        "    else:\n",
        "        display(HTML(css + f'<div class=\"bot-message\"><p class=\"message-text\"><b>Chatbot:</b> {message}</p></div>'))\n",
        "\n",
        "def chatbot():\n",
        "       while True:\n",
        "\n",
        "           # Obtener la entrada del usuario\n",
        "           user_input = input(\"Introduce tu petición: \")\n",
        "\n",
        "           # Verificar si el usuario quiere salir\n",
        "           if check_exit_input(user_input):\n",
        "              break\n",
        "\n",
        "           # Obtener la respuesta del chatbot usando la cadena RAG\n",
        "           response = rag_chain.invoke(user_input)\n",
        "\n",
        "           # Mostrar la entrada del usuario y la respuesta del chatbot\n",
        "           display_chat_message(user_input, \"user\")\n",
        "           display_chat_message(response, \"bot\")"
      ]
    },
    {
      "cell_type": "markdown",
      "source": [
        "Ejecución del chatbot"
      ],
      "metadata": {
        "id": "TfP6cPW2NTDf"
      }
    },
    {
      "cell_type": "code",
      "execution_count": 17,
      "metadata": {
        "colab": {
          "base_uri": "https://localhost:8080/",
          "height": 480
        },
        "id": "12y-qAESCuOr",
        "outputId": "f3f37535-8256-46cc-9848-cea30d3826df"
      },
      "outputs": [
        {
          "name": "stdout",
          "output_type": "stream",
          "text": [
            "Introduce tu petición: hola\n"
          ]
        },
        {
          "output_type": "display_data",
          "data": {
            "text/plain": [
              "<IPython.core.display.HTML object>"
            ],
            "text/html": [
              "\n",
              "<style>\n",
              ".user-message {\n",
              "    background-color: #f2f2f2; /* Gris claro para usuario */\n",
              "    color: #333333;\n",
              "    padding: 10px;\n",
              "    border-radius: 5px;\n",
              "    margin-bottom: 5px;\n",
              "    text-align: left; /* Alinea el texto a la izquierda */\n",
              "}\n",
              "\n",
              ".bot-message {\n",
              "    background-color: #e0f7fa; /* Celeste claro para chatbot */\n",
              "    color: #333333;\n",
              "    padding: 10px;\n",
              "    border-radius: 5px;\n",
              "    margin-bottom: 5px;\n",
              "    text-align: left; /* Alinea el texto a la izquierda */\n",
              "}\n",
              "\n",
              ".message-text {\n",
              "    margin: 0;\n",
              "    font-size: 14px; /* Ajusta el tamaño de fuente */\n",
              "    line-height: 1.4; /* Ajusta el interlineado */\n",
              "}\n",
              "</style>\n",
              "<div class=\"user-message\"><p class=\"message-text\"><b>Usuario:</b> hola</p></div>"
            ]
          },
          "metadata": {}
        },
        {
          "output_type": "display_data",
          "data": {
            "text/plain": [
              "<IPython.core.display.HTML object>"
            ],
            "text/html": [
              "\n",
              "<style>\n",
              ".user-message {\n",
              "    background-color: #f2f2f2; /* Gris claro para usuario */\n",
              "    color: #333333;\n",
              "    padding: 10px;\n",
              "    border-radius: 5px;\n",
              "    margin-bottom: 5px;\n",
              "    text-align: left; /* Alinea el texto a la izquierda */\n",
              "}\n",
              "\n",
              ".bot-message {\n",
              "    background-color: #e0f7fa; /* Celeste claro para chatbot */\n",
              "    color: #333333;\n",
              "    padding: 10px;\n",
              "    border-radius: 5px;\n",
              "    margin-bottom: 5px;\n",
              "    text-align: left; /* Alinea el texto a la izquierda */\n",
              "}\n",
              "\n",
              ".message-text {\n",
              "    margin: 0;\n",
              "    font-size: 14px; /* Ajusta el tamaño de fuente */\n",
              "    line-height: 1.4; /* Ajusta el interlineado */\n",
              "}\n",
              "</style>\n",
              "<div class=\"bot-message\"><p class=\"message-text\"><b>Chatbot:</b> ¡Hola! ¿Cómo puedo ayudarte hoy?</p></div>"
            ]
          },
          "metadata": {}
        },
        {
          "name": "stdout",
          "output_type": "stream",
          "text": [
            "Introduce tu petición: El cliente quiere hacer un cambio en la forma de pago\n"
          ]
        },
        {
          "output_type": "display_data",
          "data": {
            "text/plain": [
              "<IPython.core.display.HTML object>"
            ],
            "text/html": [
              "\n",
              "<style>\n",
              ".user-message {\n",
              "    background-color: #f2f2f2; /* Gris claro para usuario */\n",
              "    color: #333333;\n",
              "    padding: 10px;\n",
              "    border-radius: 5px;\n",
              "    margin-bottom: 5px;\n",
              "    text-align: left; /* Alinea el texto a la izquierda */\n",
              "}\n",
              "\n",
              ".bot-message {\n",
              "    background-color: #e0f7fa; /* Celeste claro para chatbot */\n",
              "    color: #333333;\n",
              "    padding: 10px;\n",
              "    border-radius: 5px;\n",
              "    margin-bottom: 5px;\n",
              "    text-align: left; /* Alinea el texto a la izquierda */\n",
              "}\n",
              "\n",
              ".message-text {\n",
              "    margin: 0;\n",
              "    font-size: 14px; /* Ajusta el tamaño de fuente */\n",
              "    line-height: 1.4; /* Ajusta el interlineado */\n",
              "}\n",
              "</style>\n",
              "<div class=\"user-message\"><p class=\"message-text\"><b>Usuario:</b> El cliente quiere hacer un cambio en la forma de pago</p></div>"
            ]
          },
          "metadata": {}
        },
        {
          "output_type": "display_data",
          "data": {
            "text/plain": [
              "<IPython.core.display.HTML object>"
            ],
            "text/html": [
              "\n",
              "<style>\n",
              ".user-message {\n",
              "    background-color: #f2f2f2; /* Gris claro para usuario */\n",
              "    color: #333333;\n",
              "    padding: 10px;\n",
              "    border-radius: 5px;\n",
              "    margin-bottom: 5px;\n",
              "    text-align: left; /* Alinea el texto a la izquierda */\n",
              "}\n",
              "\n",
              ".bot-message {\n",
              "    background-color: #e0f7fa; /* Celeste claro para chatbot */\n",
              "    color: #333333;\n",
              "    padding: 10px;\n",
              "    border-radius: 5px;\n",
              "    margin-bottom: 5px;\n",
              "    text-align: left; /* Alinea el texto a la izquierda */\n",
              "}\n",
              "\n",
              ".message-text {\n",
              "    margin: 0;\n",
              "    font-size: 14px; /* Ajusta el tamaño de fuente */\n",
              "    line-height: 1.4; /* Ajusta el interlineado */\n",
              "}\n",
              "</style>\n",
              "<div class=\"bot-message\"><p class=\"message-text\"><b>Chatbot:</b> Para realizar un cambio en la forma de pago, debes acceder a CRM/Ofertas prl/Contratos aceptados/General y comprobar los términos de pago actuales. Si estos difieren de los que el cliente solicita, debes solicitar un anexo con las nuevas condiciones de pago. Informa al cliente de que recibirá un anexo para proceder al cambio.</p></div>"
            ]
          },
          "metadata": {}
        },
        {
          "name": "stdout",
          "output_type": "stream",
          "text": [
            "Introduce tu petición: ahora necesito informarme sobre el registro horario de adeplus\n"
          ]
        },
        {
          "output_type": "display_data",
          "data": {
            "text/plain": [
              "<IPython.core.display.HTML object>"
            ],
            "text/html": [
              "\n",
              "<style>\n",
              ".user-message {\n",
              "    background-color: #f2f2f2; /* Gris claro para usuario */\n",
              "    color: #333333;\n",
              "    padding: 10px;\n",
              "    border-radius: 5px;\n",
              "    margin-bottom: 5px;\n",
              "    text-align: left; /* Alinea el texto a la izquierda */\n",
              "}\n",
              "\n",
              ".bot-message {\n",
              "    background-color: #e0f7fa; /* Celeste claro para chatbot */\n",
              "    color: #333333;\n",
              "    padding: 10px;\n",
              "    border-radius: 5px;\n",
              "    margin-bottom: 5px;\n",
              "    text-align: left; /* Alinea el texto a la izquierda */\n",
              "}\n",
              "\n",
              ".message-text {\n",
              "    margin: 0;\n",
              "    font-size: 14px; /* Ajusta el tamaño de fuente */\n",
              "    line-height: 1.4; /* Ajusta el interlineado */\n",
              "}\n",
              "</style>\n",
              "<div class=\"user-message\"><p class=\"message-text\"><b>Usuario:</b> ahora necesito informarme sobre el registro horario de adeplus</p></div>"
            ]
          },
          "metadata": {}
        },
        {
          "output_type": "display_data",
          "data": {
            "text/plain": [
              "<IPython.core.display.HTML object>"
            ],
            "text/html": [
              "\n",
              "<style>\n",
              ".user-message {\n",
              "    background-color: #f2f2f2; /* Gris claro para usuario */\n",
              "    color: #333333;\n",
              "    padding: 10px;\n",
              "    border-radius: 5px;\n",
              "    margin-bottom: 5px;\n",
              "    text-align: left; /* Alinea el texto a la izquierda */\n",
              "}\n",
              "\n",
              ".bot-message {\n",
              "    background-color: #e0f7fa; /* Celeste claro para chatbot */\n",
              "    color: #333333;\n",
              "    padding: 10px;\n",
              "    border-radius: 5px;\n",
              "    margin-bottom: 5px;\n",
              "    text-align: left; /* Alinea el texto a la izquierda */\n",
              "}\n",
              "\n",
              ".message-text {\n",
              "    margin: 0;\n",
              "    font-size: 14px; /* Ajusta el tamaño de fuente */\n",
              "    line-height: 1.4; /* Ajusta el interlineado */\n",
              "}\n",
              "</style>\n",
              "<div class=\"bot-message\"><p class=\"message-text\"><b>Chatbot:</b> Para consultas sobre el registro horario de Adeplus, debes contactar a María José Alonso o Leticia Bernardino. Ellos son los encargados de manejar este tipo de consultas en el departamento Adeplus 551955.</p></div>"
            ]
          },
          "metadata": {}
        },
        {
          "name": "stdout",
          "output_type": "stream",
          "text": [
            "Introduce tu petición: el cliente no puede acceder a Acercate Empresas \n"
          ]
        },
        {
          "output_type": "display_data",
          "data": {
            "text/plain": [
              "<IPython.core.display.HTML object>"
            ],
            "text/html": [
              "\n",
              "<style>\n",
              ".user-message {\n",
              "    background-color: #f2f2f2; /* Gris claro para usuario */\n",
              "    color: #333333;\n",
              "    padding: 10px;\n",
              "    border-radius: 5px;\n",
              "    margin-bottom: 5px;\n",
              "    text-align: left; /* Alinea el texto a la izquierda */\n",
              "}\n",
              "\n",
              ".bot-message {\n",
              "    background-color: #e0f7fa; /* Celeste claro para chatbot */\n",
              "    color: #333333;\n",
              "    padding: 10px;\n",
              "    border-radius: 5px;\n",
              "    margin-bottom: 5px;\n",
              "    text-align: left; /* Alinea el texto a la izquierda */\n",
              "}\n",
              "\n",
              ".message-text {\n",
              "    margin: 0;\n",
              "    font-size: 14px; /* Ajusta el tamaño de fuente */\n",
              "    line-height: 1.4; /* Ajusta el interlineado */\n",
              "}\n",
              "</style>\n",
              "<div class=\"user-message\"><p class=\"message-text\"><b>Usuario:</b> el cliente no puede acceder a Acercate Empresas </p></div>"
            ]
          },
          "metadata": {}
        },
        {
          "output_type": "display_data",
          "data": {
            "text/plain": [
              "<IPython.core.display.HTML object>"
            ],
            "text/html": [
              "\n",
              "<style>\n",
              ".user-message {\n",
              "    background-color: #f2f2f2; /* Gris claro para usuario */\n",
              "    color: #333333;\n",
              "    padding: 10px;\n",
              "    border-radius: 5px;\n",
              "    margin-bottom: 5px;\n",
              "    text-align: left; /* Alinea el texto a la izquierda */\n",
              "}\n",
              "\n",
              ".bot-message {\n",
              "    background-color: #e0f7fa; /* Celeste claro para chatbot */\n",
              "    color: #333333;\n",
              "    padding: 10px;\n",
              "    border-radius: 5px;\n",
              "    margin-bottom: 5px;\n",
              "    text-align: left; /* Alinea el texto a la izquierda */\n",
              "}\n",
              "\n",
              ".message-text {\n",
              "    margin: 0;\n",
              "    font-size: 14px; /* Ajusta el tamaño de fuente */\n",
              "    line-height: 1.4; /* Ajusta el interlineado */\n",
              "}\n",
              "</style>\n",
              "<div class=\"bot-message\"><p class=\"message-text\"><b>Chatbot:</b> Lamentablemente, no dispongo de información específica sobre problemas de acceso a la plataforma Acercate Empresas. Sin embargo, si el cliente tiene problemas para manejar la extranet de clientes, disponemos de una guía de uso que podemos hacer llegar al cliente. Además, podemos recordarle que en la propia extranet existe una opción de videoayudas, del icono de ayudas (?), ubicado en la esquina superior derecha de la web. \n",
              "\n",
              "Enlace de Interés: https://drive.google.com/file/d/1HFY45CvNCAcm_zYlcmpovJ3upExix8Xo/view?usp=sharing</p></div>"
            ]
          },
          "metadata": {}
        },
        {
          "name": "stdout",
          "output_type": "stream",
          "text": [
            "Introduce tu petición: chao\n"
          ]
        }
      ],
      "source": [
        "chatbot()"
      ]
    }
  ],
  "metadata": {
    "colab": {
      "provenance": []
    },
    "kernelspec": {
      "display_name": "Python 3",
      "name": "python3"
    },
    "language_info": {
      "name": "python"
    }
  },
  "nbformat": 4,
  "nbformat_minor": 0
}